{
 "cells": [
  {
   "cell_type": "code",
   "execution_count": 3,
   "metadata": {
    "collapsed": false
   },
   "outputs": [],
   "source": [
    "import sys\n",
    "sys.path.append('../notebooks')\n",
    "\n",
    "import os\n",
    "import numpy as np\n",
    "import glob\n",
    "import cv2\n",
    "import utils\n",
    "import pylab as pl\n",
    "import shutil\n",
    "import matplotlib.cm as cm\n",
    "from sklearn.cross_validation import train_test_split\n",
    "import warnings\n",
    "warnings.filterwarnings('ignore', category=DeprecationWarning, module='.*/ipykernel/.*')\n",
    "%matplotlib inline"
   ]
  },
  {
   "cell_type": "code",
   "execution_count": 4,
   "metadata": {
    "collapsed": true
   },
   "outputs": [],
   "source": [
    "_d = np.load('../../data_128_train.npz')\n",
    "X = _d['X']\n",
    "Y = _d['Y']"
   ]
  },
  {
   "cell_type": "code",
   "execution_count": 5,
   "metadata": {
    "collapsed": false
   },
   "outputs": [
    {
     "name": "stdout",
     "output_type": "stream",
     "text": [
      "(5635, 128, 128)\n",
      "(5635, 128, 128)\n"
     ]
    }
   ],
   "source": [
    "print X.shape\n",
    "print Y.shape"
   ]
  },
  {
   "cell_type": "code",
   "execution_count": 6,
   "metadata": {
    "collapsed": true
   },
   "outputs": [],
   "source": [
    "nsamples = X.shape[0]\n",
    "\n",
    "train_indices, test_indices = train_test_split(np.arange(nsamples), test_size=0.1)\n",
    "#train_indices, test_indices = train_test_split(np.arange(nsamples), test_size=0.25)\n",
    "X_train = X[train_indices][:,None,:,:]\n",
    "Y_train = Y[train_indices][:,None,:,:]\n",
    "X_test = X[test_indices][:,None,:,:]\n",
    "Y_test = Y[test_indices][:,None,:,:]"
   ]
  },
  {
   "cell_type": "code",
   "execution_count": 7,
   "metadata": {
    "collapsed": false
   },
   "outputs": [
    {
     "name": "stdout",
     "output_type": "stream",
     "text": [
      "(5071, 1, 128, 128)\n",
      "(5071, 1, 128, 128)\n",
      "0.0 1.0\n",
      "(564, 1, 128, 128)\n"
     ]
    }
   ],
   "source": [
    "print X_train.shape\n",
    "print Y_train.shape\n",
    "print X_train.min(), X_train.max()\n",
    "\n",
    "print X_test.shape"
   ]
  },
  {
   "cell_type": "code",
   "execution_count": 8,
   "metadata": {
    "collapsed": false
   },
   "outputs": [
    {
     "name": "stderr",
     "output_type": "stream",
     "text": [
      "/home/julien/kaggle/venv/local/lib/python2.7/site-packages/IPython/core/formatters.py:92: DeprecationWarning: DisplayFormatter._ipython_display_formatter_default is deprecated: use @default decorator instead.\n",
      "  def _ipython_display_formatter_default(self):\n",
      "/home/julien/kaggle/venv/local/lib/python2.7/site-packages/IPython/core/formatters.py:669: DeprecationWarning: PlainTextFormatter._singleton_printers_default is deprecated: use @default decorator instead.\n",
      "  def _singleton_printers_default(self):\n"
     ]
    },
    {
     "data": {
      "text/plain": [
       "<matplotlib.image.AxesImage at 0x7f0c9fbda450>"
      ]
     },
     "execution_count": 8,
     "metadata": {},
     "output_type": "execute_result"
    },
    {
     "data": {
      "image/png": "[encoded data removed]",
      "text/plain": [
       "<matplotlib.figure.Figure at 0x7f0cf7d72a90>"
      ]
     },
     "metadata": {},
     "output_type": "display_data"
    }
   ],
   "source": [
    "#pl.imshow(X_train[0].squeeze())\n",
    "pl.imshow(Y_train[0].squeeze())"
   ]
  },
  {
   "cell_type": "code",
   "execution_count": 9,
   "metadata": {
    "collapsed": false
   },
   "outputs": [
    {
     "name": "stdout",
     "output_type": "stream",
     "text": [
      "(1, 128, 128)\n"
     ]
    }
   ],
   "source": [
    "# channels first in keras\n",
    "input_shape = X_train[0].shape\n",
    "print input_shape"
   ]
  },
  {
   "cell_type": "code",
   "execution_count": 10,
   "metadata": {
    "collapsed": false
   },
   "outputs": [
    {
     "name": "stderr",
     "output_type": "stream",
     "text": [
      "Using Theano backend.\n",
      "Using gpu device 0: GeForce GTX 960 (CNMeM is disabled, cuDNN 4007)\n"
     ]
    }
   ],
   "source": [
    "os.environ['KERAS_BACKEND'] = 'theano'\n",
    "# TODO: Use float16 ?\n",
    "os.environ['THEANO_FLAGS'] = 'mode=FAST_RUN,device=gpu0,floatX=float16'\n",
    "import keras\n",
    "from keras.layers import Input, Dense, Dropout, Activation, Flatten, merge, RepeatVector, Permute, Reshape\n",
    "from keras.layers import Convolution2D, MaxPooling2D, UpSampling2D, GaussianNoise, ZeroPadding2D\n",
    "from keras.layers import BatchNormalization\n",
    "from keras.layers import LeakyReLU, PReLU\n",
    "import keras.backend as K\n",
    "from keras.models import Model\n",
    "from keras.optimizers import SGD, RMSprop\n",
    "from keras.utils.layer_utils import print_summary\n",
    "from keras.models import model_from_json"
   ]
  },
  {
   "cell_type": "code",
   "execution_count": 11,
   "metadata": {
    "collapsed": false
   },
   "outputs": [
    {
     "name": "stdout",
     "output_type": "stream",
     "text": [
      "gpu0\n"
     ]
    }
   ],
   "source": [
    "import theano\n",
    "print theano.config.device"
   ]
  },
  {
   "cell_type": "code",
   "execution_count": 17,
   "metadata": {
    "collapsed": true
   },
   "outputs": [],
   "source": [
    "smooth = 1.\n",
    "\n",
    "def dice_coef(y_true, y_pred):\n",
    "    y_true_f = K.flatten(y_true)\n",
    "    y_pred_f = K.flatten(y_pred)\n",
    "    intersection = K.sum(y_true_f * y_pred_f)\n",
    "    return (2. * intersection + smooth) / (K.sum(y_true_f) + K.sum(y_pred_f) + smooth)\n",
    "\n",
    "\n",
    "def dice_coef_loss(y_true, y_pred):\n",
    "    return -dice_coef(y_true, y_pred)"
   ]
  },
  {
   "cell_type": "code",
   "execution_count": 18,
   "metadata": {
    "collapsed": false
   },
   "outputs": [
    {
     "name": "stdout",
     "output_type": "stream",
     "text": [
      "____________________________________________________________________________________________________\n",
      "Layer (type)                       Output Shape        Param #     Connected to                     \n",
      "====================================================================================================\n",
      "input_5 (InputLayer)               (None, 1, 128, 128) 0                                            \n",
      "____________________________________________________________________________________________________\n",
      "convolution2d_27 (Convolution2D)   (None, 16, 128, 128)800         input_5[0][0]                    \n",
      "____________________________________________________________________________________________________\n",
      "leakyrelu_29 (LeakyReLU)           (None, 16, 128, 128)0           convolution2d_27[0][0]           \n",
      "____________________________________________________________________________________________________\n",
      "maxpooling2d_15 (MaxPooling2D)     (None, 16, 64, 64)  0           leakyrelu_29[0][0]               \n",
      "____________________________________________________________________________________________________\n",
      "pool1 (Dropout)                    (None, 16, 64, 64)  0           maxpooling2d_15[0][0]            \n",
      "____________________________________________________________________________________________________\n",
      "convolution2d_28 (Convolution2D)   (None, 16, 64, 64)  6416        pool1[0][0]                      \n",
      "____________________________________________________________________________________________________\n",
      "leakyrelu_30 (LeakyReLU)           (None, 16, 64, 64)  0           convolution2d_28[0][0]           \n",
      "____________________________________________________________________________________________________\n",
      "maxpooling2d_16 (MaxPooling2D)     (None, 16, 32, 32)  0           leakyrelu_30[0][0]               \n",
      "____________________________________________________________________________________________________\n",
      "pool2 (Dropout)                    (None, 16, 32, 32)  0           maxpooling2d_16[0][0]            \n",
      "____________________________________________________________________________________________________\n",
      "convolution2d_29 (Convolution2D)   (None, 16, 32, 32)  6416        pool2[0][0]                      \n",
      "____________________________________________________________________________________________________\n",
      "leakyrelu_31 (LeakyReLU)           (None, 16, 32, 32)  0           convolution2d_29[0][0]           \n",
      "____________________________________________________________________________________________________\n",
      "maxpooling2d_17 (MaxPooling2D)     (None, 16, 16, 16)  0           leakyrelu_31[0][0]               \n",
      "____________________________________________________________________________________________________\n",
      "pool3 (Dropout)                    (None, 16, 16, 16)  0           maxpooling2d_17[0][0]            \n",
      "____________________________________________________________________________________________________\n",
      "convolution2d_30 (Convolution2D)   (None, 16, 16, 16)  2320        pool3[0][0]                      \n",
      "____________________________________________________________________________________________________\n",
      "leakyrelu_32 (LeakyReLU)           (None, 16, 16, 16)  0           convolution2d_30[0][0]           \n",
      "____________________________________________________________________________________________________\n",
      "upsampling2d_13 (UpSampling2D)     (None, 16, 32, 32)  0           leakyrelu_32[0][0]               \n",
      "____________________________________________________________________________________________________\n",
      "merge_9 (Merge)                    (None, 16, 32, 32)  0           upsampling2d_13[0][0]            \n",
      "                                                                   pool2[0][0]                      \n",
      "____________________________________________________________________________________________________\n",
      "convolution2d_31 (Convolution2D)   (None, 16, 32, 32)  2320        merge_9[0][0]                    \n",
      "____________________________________________________________________________________________________\n",
      "leakyrelu_33 (LeakyReLU)           (None, 16, 32, 32)  0           convolution2d_31[0][0]           \n",
      "____________________________________________________________________________________________________\n",
      "upsampling2d_14 (UpSampling2D)     (None, 16, 64, 64)  0           leakyrelu_33[0][0]               \n",
      "____________________________________________________________________________________________________\n",
      "merge_10 (Merge)                   (None, 16, 64, 64)  0           upsampling2d_14[0][0]            \n",
      "                                                                   pool1[0][0]                      \n",
      "____________________________________________________________________________________________________\n",
      "convolution2d_32 (Convolution2D)   (None, 16, 64, 64)  2320        merge_10[0][0]                   \n",
      "____________________________________________________________________________________________________\n",
      "leakyrelu_34 (LeakyReLU)           (None, 16, 64, 64)  0           convolution2d_32[0][0]           \n",
      "____________________________________________________________________________________________________\n",
      "upsampling2d_15 (UpSampling2D)     (None, 16, 128, 128)0           leakyrelu_34[0][0]               \n",
      "____________________________________________________________________________________________________\n",
      "outmap (Convolution2D)             (None, 1, 128, 128) 145         upsampling2d_15[0][0]            \n",
      "====================================================================================================\n",
      "Total params: 20737\n",
      "____________________________________________________________________________________________________\n"
     ]
    }
   ],
   "source": [
    "input_img = Input(shape=input_shape)\n",
    "x = Convolution2D(16, 7, 7, border_mode='same')(input_img)\n",
    "x = LeakyReLU()(x)\n",
    "#x = Convolution2D(16, 3, 3, border_mode='same')(x)\n",
    "#x = LeakyReLU()(x)\n",
    "x = MaxPooling2D((2, 2), border_mode='same')(x)\n",
    "pool1 = x = Dropout(0.25, name='pool1')(x)\n",
    "\n",
    "x = Convolution2D(16, 5, 5, border_mode='same')(x)\n",
    "x = LeakyReLU()(x)\n",
    "#x = Convolution2D(32, 3, 3, border_mode='same')(x)\n",
    "#x = LeakyReLU()(x)\n",
    "x = MaxPooling2D((2, 2), border_mode='same')(x)\n",
    "pool2 = x = Dropout(0.25, name='pool2')(x)\n",
    "\n",
    "x = Convolution2D(16, 5, 5, border_mode='same')(x)\n",
    "x = LeakyReLU()(x)\n",
    "#x = Convolution2D(64, 3, 3, border_mode='same')(x)\n",
    "#x = LeakyReLU()(x)\n",
    "x = MaxPooling2D((2, 2), border_mode='same')(x)\n",
    "pool3 = x = Dropout(0.25, name='pool3')(x)\n",
    "\n",
    "# -- location map\n",
    "x = Convolution2D(16, 3, 3, border_mode='same')(x)\n",
    "x = LeakyReLU()(x)\n",
    "x = UpSampling2D((2, 2))(x)\n",
    "\n",
    "x = merge([x, pool2], mode='sum')\n",
    "x = Convolution2D(16, 3, 3, border_mode='same')(x)\n",
    "x = LeakyReLU()(x)\n",
    "x = UpSampling2D((2, 2))(x)\n",
    "\n",
    "x = merge([x, pool1], mode='sum')\n",
    "x = Convolution2D(16, 3, 3, border_mode='same')(x)\n",
    "x = LeakyReLU()(x)\n",
    "x = UpSampling2D((2, 2))(x)\n",
    "\n",
    "outmap = Convolution2D(1, 3, 3, activation='sigmoid', border_mode='same', name='outmap')(x)\n",
    "\n",
    "model = Model(\n",
    "    input=input_img,\n",
    "    output=outmap\n",
    ")\n",
    "\n",
    "#sgd = SGD(lr=0.01, decay=1e-6, momentum=0.9, nesterov=True)\n",
    "#model.compile(optimizer=sgd, loss='binary_crossentropy')\n",
    "#rmsprop = RMSprop(lr=0.001, rho=0.9, epsilon=1e-08)\n",
    "#model.compile(optimizer=rmsprop, loss='binary_crossentropy')\n",
    "\n",
    "#loss=dice_coef_loss, metrics=[dice_coef]\n",
    "model.compile(optimizer='adam', loss='binary_crossentropy', metrics=[dice_coef])\n",
    "\n",
    "print_summary(model.layers)"
   ]
  },
  {
   "cell_type": "code",
   "execution_count": 27,
   "metadata": {
    "collapsed": false
   },
   "outputs": [
    {
     "name": "stdout",
     "output_type": "stream",
     "text": [
      "Train on 5071 samples, validate on 564 samples\n",
      "Epoch 1/10\n",
      "5071/5071 [==============================] - 19s - loss: 0.0226 - dice_coef: 0.4740 - val_loss: 0.0227 - val_dice_coef: 0.4373\n",
      "Epoch 2/10\n",
      "5071/5071 [==============================] - 19s - loss: 0.0224 - dice_coef: 0.4804 - val_loss: 0.0232 - val_dice_coef: 0.4551\n",
      "Epoch 3/10\n",
      "5071/5071 [==============================] - 18s - loss: 0.0224 - dice_coef: 0.4801 - val_loss: 0.0222 - val_dice_coef: 0.4705\n",
      "Epoch 4/10\n",
      "5071/5071 [==============================] - 18s - loss: 0.0224 - dice_coef: 0.4789 - val_loss: 0.0225 - val_dice_coef: 0.4991\n",
      "Epoch 5/10\n",
      "5071/5071 [==============================] - 18s - loss: 0.0224 - dice_coef: 0.4798 - val_loss: 0.0226 - val_dice_coef: 0.4602\n",
      "Epoch 6/10\n",
      "5071/5071 [==============================] - 18s - loss: 0.0223 - dice_coef: 0.4798 - val_loss: 0.0219 - val_dice_coef: 0.4777\n",
      "Epoch 7/10\n",
      "5071/5071 [==============================] - 18s - loss: 0.0223 - dice_coef: 0.4807 - val_loss: 0.0222 - val_dice_coef: 0.4576\n",
      "Epoch 8/10\n",
      "5071/5071 [==============================] - 18s - loss: 0.0222 - dice_coef: 0.4828 - val_loss: 0.0219 - val_dice_coef: 0.4936\n",
      "Epoch 9/10\n",
      "5071/5071 [==============================] - 18s - loss: 0.0223 - dice_coef: 0.4791 - val_loss: 0.0219 - val_dice_coef: 0.4728\n",
      "Epoch 10/10\n",
      "5071/5071 [==============================] - 18s - loss: 0.0224 - dice_coef: 0.4825 - val_loss: 0.0228 - val_dice_coef: 0.4864\n"
     ]
    },
    {
     "data": {
      "image/png": "[encoded data removed]",
      "text/plain": [
       "<matplotlib.figure.Figure at 0x7f0c6a96b3d0>"
      ]
     },
     "metadata": {},
     "output_type": "display_data"
    }
   ],
   "source": [
    "if True:\n",
    "    history = model.fit(\n",
    "        X_train, Y_train,\n",
    "        batch_size=32,\n",
    "        validation_data=(X_test, Y_test),\n",
    "        nb_epoch=10\n",
    "    )\n",
    "    \n",
    "    pl.plot(history.history['loss'], label='train loss')\n",
    "    pl.plot(history.history['val_loss'], c='g', label='val loss')\n",
    "    pl.legend()"
   ]
  },
  {
   "cell_type": "code",
   "execution_count": 28,
   "metadata": {
    "collapsed": true
   },
   "outputs": [],
   "source": [
    "if False:\n",
    "    model_dir = '.'\n",
    "    json_string = model.to_json()\n",
    "    open(os.path.join(model_dir, 'architecture.json'), 'w').write(json_string)\n",
    "    model.save_weights(os.path.join(model_dir, 'weights.h5'))"
   ]
  },
  {
   "cell_type": "code",
   "execution_count": 29,
   "metadata": {
    "collapsed": false
   },
   "outputs": [
    {
     "name": "stdout",
     "output_type": "stream",
     "text": [
      "test set score :  0.594832615118\n"
     ]
    }
   ],
   "source": [
    "import skimage.measure as measure\n",
    "\n",
    "def predict(X):\n",
    "    Y_pred = model.predict(X)\n",
    "    Y_pred_proba = Y_pred\n",
    "    Y_pred = Y_pred > 0.3\n",
    "    for i in range(Y_pred.shape[0]):\n",
    "        # Clear prediction where we detect to little pixels\n",
    "        # Figure it out by\n",
    "        # pl.hist(np.sum(np.sum(np.sum(Y_pred, axis=1), axis=1), axis=1))\n",
    "        if np.sum(Y_pred[i]) < 0:\n",
    "            Y_pred[i,:] = 0\n",
    "    return Y_pred, Y_pred_proba\n",
    "\n",
    "Y_pred, Y_pred_proba = predict(X_test)\n",
    "print \"test set score : \", utils.dice_coefficient(Y_pred, Y_test)"
   ]
  },
  {
   "cell_type": "code",
   "execution_count": null,
   "metadata": {
    "collapsed": true
   },
   "outputs": [],
   "source": [
    "# Find the images with lowest scores\n",
    "dice_scores = []\n",
    "for i in range(Y_pred.shape[0]):\n",
    "    dice_scores.append(utils.dice_coefficient(Y_pred[i], Y_test[i]))\n",
    "dice_scores = np.array(dice_scores)\n",
    "lowest = np.argsort(dice_scores)"
   ]
  },
  {
   "cell_type": "code",
   "execution_count": null,
   "metadata": {
    "collapsed": true
   },
   "outputs": [],
   "source": [
    "pl.plot(dice_scores[lowest])\n",
    "#pl.plot(Y_pred_binary[lowest], c='r')"
   ]
  },
  {
   "cell_type": "code",
   "execution_count": null,
   "metadata": {
    "collapsed": true
   },
   "outputs": [],
   "source": [
    "#i = 50\n",
    "#i = 47\n",
    "\n",
    "#for i in lowest[-15:-10]:\n",
    "#for i in lowest[215:220]:\n",
    "for i in lowest[10:15]:\n",
    "    pl.figure(figsize=(12, 3))\n",
    "    pl.suptitle('dice score %f' % utils.dice_coefficient(Y_pred[i], Y_test[i]))\n",
    "    pl.subplot(141)\n",
    "    pl.title('input')\n",
    "    pl.imshow(X_test[i].squeeze())\n",
    "    pl.subplot(142)\n",
    "    pl.title('expected')\n",
    "    pl.imshow(Y_test[i].squeeze())\n",
    "    pl.subplot(143)\n",
    "    pl.title('predicted')\n",
    "    pl.imshow(Y_pred[i].squeeze(), vmin=0, vmax=1)\n",
    "    pl.subplot(144)\n",
    "    \n",
    "    #blob_proba = np.mean(Y_pred_proba[i][Y_pred[i] == 1])\n",
    "    #pl.title('prediction proba %f' % Y_pred_binary[i])\n",
    "    pl.imshow(Y_pred_proba[i].squeeze(), vmin=0, vmax=1)"
   ]
  }
 ],
 "metadata": {
  "kernelspec": {
   "display_name": "Python 2",
   "language": "python",
   "name": "python2"
  },
  "language_info": {
   "codemirror_mode": {
    "name": "ipython",
    "version": 2
   },
   "file_extension": ".py",
   "mimetype": "text/x-python",
   "name": "python",
   "nbconvert_exporter": "python",
   "pygments_lexer": "ipython2",
   "version": "2.7.6"
  }
 },
 "nbformat": 4,
 "nbformat_minor": 0
}
