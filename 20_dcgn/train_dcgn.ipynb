{
 "cells": [
  {
   "cell_type": "markdown",
   "metadata": {},
   "source": [
    "https://github.com/jacobgil/keras-dcgan/blob/master/dcgan.py"
   ]
  },
  {
   "cell_type": "code",
   "execution_count": 3,
   "metadata": {
    "collapsed": false
   },
   "outputs": [],
   "source": [
    "import sys\n",
    "sys.path.append('../notebooks')\n",
    "import utils\n",
    "import os\n",
    "import numpy as np\n",
    "import glob\n",
    "import cv2\n",
    "import utils\n",
    "import pylab as pl\n",
    "import shutil\n",
    "import matplotlib.cm as cm\n",
    "from sklearn.cross_validation import train_test_split\n",
    "import warnings\n",
    "warnings.filterwarnings('ignore', category=DeprecationWarning, module='.*/ipykernel/.*')\n",
    "%matplotlib inline"
   ]
  },
  {
   "cell_type": "code",
   "execution_count": 9,
   "metadata": {
    "collapsed": false
   },
   "outputs": [],
   "source": [
    "_d = np.load('../data/data_128_train.npz')\n",
    "X_train = _d['X'][:,None,:,:]\n",
    "Y_train = _d['Y']"
   ]
  },
  {
   "cell_type": "code",
   "execution_count": 24,
   "metadata": {
    "collapsed": true
   },
   "outputs": [],
   "source": [
    "# set X_train to be in [-1, 1]\n",
    "X_train = (X_train - 0.5) * 2"
   ]
  },
  {
   "cell_type": "code",
   "execution_count": 25,
   "metadata": {
    "collapsed": false
   },
   "outputs": [
    {
     "name": "stdout",
     "output_type": "stream",
     "text": [
      "(5635, 1, 128, 128)\n",
      "(5635, 128, 128)\n"
     ]
    }
   ],
   "source": [
    "print X_train.shape\n",
    "print Y_train.shape"
   ]
  },
  {
   "cell_type": "code",
   "execution_count": 26,
   "metadata": {
    "collapsed": false
   },
   "outputs": [
    {
     "name": "stdout",
     "output_type": "stream",
     "text": [
      "(1, 128, 128)\n"
     ]
    }
   ],
   "source": [
    "# channels first in keras\n",
    "input_shape = X_train[0].shape\n",
    "print input_shape"
   ]
  },
  {
   "cell_type": "code",
   "execution_count": 63,
   "metadata": {
    "collapsed": false
   },
   "outputs": [],
   "source": [
    "os.environ['KERAS_BACKEND'] = 'theano'\n",
    "# TODO: Use float16 ?\n",
    "os.environ['THEANO_FLAGS'] = 'mode=FAST_RUN,device=gpu0,floatX=float16'\n",
    "import keras\n",
    "from keras.layers import Input, Dense, Dropout, Activation, Flatten, merge, RepeatVector, Permute, Reshape\n",
    "from keras.layers import Convolution2D, MaxPooling2D, UpSampling2D, MaxoutDense, BatchNormalization\n",
    "from keras.layers import LeakyReLU\n",
    "from keras.models import Model, Sequential\n",
    "from keras.optimizers import SGD, RMSprop, Adam\n",
    "from keras.utils.layer_utils import print_summary\n",
    "from keras.models import model_from_json\n",
    "from keras.callbacks import ModelCheckpoint"
   ]
  },
  {
   "cell_type": "code",
   "execution_count": 28,
   "metadata": {
    "collapsed": false
   },
   "outputs": [
    {
     "name": "stdout",
     "output_type": "stream",
     "text": [
      "gpu0\n"
     ]
    }
   ],
   "source": [
    "import theano\n",
    "print theano.config.device"
   ]
  },
  {
   "cell_type": "code",
   "execution_count": 87,
   "metadata": {
    "collapsed": false
   },
   "outputs": [
    {
     "name": "stdout",
     "output_type": "stream",
     "text": [
      "Epoch is 0\n",
      "Number of batches 88\n",
      "Generating images..\n",
      "Generated..\n",
      "Batch 0 Training discriminator..\n",
      "Training generator..\n"
     ]
    },
    {
     "ename": "MissingInputError",
     "evalue": "(\"An input of the graph, used to compute dot(gen_input, HostFromGpu.0), was not provided and not given a value.Use the Theano flag exception_verbosity='high',for more information on this error.\", gen_input)",
     "output_type": "error",
     "traceback": [
      "\u001b[1;31m---------------------------------------------------------------------------\u001b[0m",
      "\u001b[1;31mMissingInputError\u001b[0m                         Traceback (most recent call last)",
      "\u001b[1;32m<ipython-input-87-c8e03ed8b873>\u001b[0m in \u001b[0;36m<module>\u001b[1;34m()\u001b[0m\n\u001b[0;32m    107\u001b[0m \u001b[1;33m\u001b[0m\u001b[0m\n\u001b[0;32m    108\u001b[0m             \u001b[1;32mprint\u001b[0m \u001b[1;34m\"Training generator..\"\u001b[0m\u001b[1;33m\u001b[0m\u001b[0m\n\u001b[1;32m--> 109\u001b[1;33m             \u001b[0mg_loss\u001b[0m \u001b[1;33m=\u001b[0m \u001b[0mdiscriminator_on_generator\u001b[0m\u001b[1;33m.\u001b[0m\u001b[0mtrain_on_batch\u001b[0m\u001b[1;33m(\u001b[0m\u001b[0mnoise\u001b[0m\u001b[1;33m,\u001b[0m \u001b[1;33m[\u001b[0m\u001b[1;36m1\u001b[0m\u001b[1;33m]\u001b[0m \u001b[1;33m*\u001b[0m \u001b[0mBATCH_SIZE\u001b[0m\u001b[1;33m)\u001b[0m\u001b[1;33m\u001b[0m\u001b[0m\n\u001b[0m\u001b[0;32m    110\u001b[0m             \u001b[1;32mprint\u001b[0m \u001b[1;34m\"Generator loss\"\u001b[0m\u001b[1;33m,\u001b[0m \u001b[0mg_loss\u001b[0m\u001b[1;33m,\u001b[0m \u001b[1;34m\"Discriminator loss\"\u001b[0m\u001b[1;33m,\u001b[0m \u001b[0md_loss\u001b[0m\u001b[1;33m,\u001b[0m \u001b[1;34m\"Total:\"\u001b[0m\u001b[1;33m,\u001b[0m \u001b[0mg_loss\u001b[0m\u001b[1;33m[\u001b[0m\u001b[1;36m0\u001b[0m\u001b[1;33m]\u001b[0m \u001b[1;33m+\u001b[0m \u001b[0md_loss\u001b[0m\u001b[1;33m[\u001b[0m\u001b[1;36m0\u001b[0m\u001b[1;33m]\u001b[0m\u001b[1;33m\u001b[0m\u001b[0m\n\u001b[0;32m    111\u001b[0m \u001b[1;33m\u001b[0m\u001b[0m\n",
      "\u001b[1;32m/home/julien/kaggle/venv/local/lib/python2.7/site-packages/keras/engine/training.pyc\u001b[0m in \u001b[0;36mtrain_on_batch\u001b[1;34m(self, x, y, sample_weight, class_weight)\u001b[0m\n\u001b[0;32m   1164\u001b[0m         \u001b[1;32melse\u001b[0m\u001b[1;33m:\u001b[0m\u001b[1;33m\u001b[0m\u001b[0m\n\u001b[0;32m   1165\u001b[0m             \u001b[0mins\u001b[0m \u001b[1;33m=\u001b[0m \u001b[0mx\u001b[0m \u001b[1;33m+\u001b[0m \u001b[0my\u001b[0m \u001b[1;33m+\u001b[0m \u001b[0msample_weights\u001b[0m\u001b[1;33m\u001b[0m\u001b[0m\n\u001b[1;32m-> 1166\u001b[1;33m         \u001b[0mself\u001b[0m\u001b[1;33m.\u001b[0m\u001b[0m_make_train_function\u001b[0m\u001b[1;33m(\u001b[0m\u001b[1;33m)\u001b[0m\u001b[1;33m\u001b[0m\u001b[0m\n\u001b[0m\u001b[0;32m   1167\u001b[0m         \u001b[0moutputs\u001b[0m \u001b[1;33m=\u001b[0m \u001b[0mself\u001b[0m\u001b[1;33m.\u001b[0m\u001b[0mtrain_function\u001b[0m\u001b[1;33m(\u001b[0m\u001b[0mins\u001b[0m\u001b[1;33m)\u001b[0m\u001b[1;33m\u001b[0m\u001b[0m\n\u001b[0;32m   1168\u001b[0m         \u001b[1;32mif\u001b[0m \u001b[0mlen\u001b[0m\u001b[1;33m(\u001b[0m\u001b[0moutputs\u001b[0m\u001b[1;33m)\u001b[0m \u001b[1;33m==\u001b[0m \u001b[1;36m1\u001b[0m\u001b[1;33m:\u001b[0m\u001b[1;33m\u001b[0m\u001b[0m\n",
      "\u001b[1;32m/home/julien/kaggle/venv/local/lib/python2.7/site-packages/keras/engine/training.pyc\u001b[0m in \u001b[0;36m_make_train_function\u001b[1;34m(self)\u001b[0m\n\u001b[0;32m    668\u001b[0m                                              \u001b[1;33m[\u001b[0m\u001b[0mself\u001b[0m\u001b[1;33m.\u001b[0m\u001b[0mtotal_loss\u001b[0m\u001b[1;33m]\u001b[0m \u001b[1;33m+\u001b[0m \u001b[0mself\u001b[0m\u001b[1;33m.\u001b[0m\u001b[0mmetrics\u001b[0m\u001b[1;33m,\u001b[0m\u001b[1;33m\u001b[0m\u001b[0m\n\u001b[0;32m    669\u001b[0m                                              \u001b[0mupdates\u001b[0m\u001b[1;33m=\u001b[0m\u001b[0mupdates\u001b[0m\u001b[1;33m,\u001b[0m\u001b[1;33m\u001b[0m\u001b[0m\n\u001b[1;32m--> 670\u001b[1;33m                                              **self._function_kwargs)\n\u001b[0m\u001b[0;32m    671\u001b[0m \u001b[1;33m\u001b[0m\u001b[0m\n\u001b[0;32m    672\u001b[0m     \u001b[1;32mdef\u001b[0m \u001b[0m_make_test_function\u001b[0m\u001b[1;33m(\u001b[0m\u001b[0mself\u001b[0m\u001b[1;33m)\u001b[0m\u001b[1;33m:\u001b[0m\u001b[1;33m\u001b[0m\u001b[0m\n",
      "\u001b[1;32m/home/julien/kaggle/venv/local/lib/python2.7/site-packages/keras/backend/theano_backend.pyc\u001b[0m in \u001b[0;36mfunction\u001b[1;34m(inputs, outputs, updates, **kwargs)\u001b[0m\n\u001b[0;32m    526\u001b[0m                 \u001b[0mmsg\u001b[0m \u001b[1;33m=\u001b[0m \u001b[1;34m\"Invalid argument '%s' passed to K.function\"\u001b[0m \u001b[1;33m%\u001b[0m \u001b[0mkey\u001b[0m\u001b[1;33m\u001b[0m\u001b[0m\n\u001b[0;32m    527\u001b[0m                 \u001b[1;32mraise\u001b[0m \u001b[0mValueError\u001b[0m\u001b[1;33m(\u001b[0m\u001b[0mmsg\u001b[0m\u001b[1;33m)\u001b[0m\u001b[1;33m\u001b[0m\u001b[0m\n\u001b[1;32m--> 528\u001b[1;33m     \u001b[1;32mreturn\u001b[0m \u001b[0mFunction\u001b[0m\u001b[1;33m(\u001b[0m\u001b[0minputs\u001b[0m\u001b[1;33m,\u001b[0m \u001b[0moutputs\u001b[0m\u001b[1;33m,\u001b[0m \u001b[0mupdates\u001b[0m\u001b[1;33m=\u001b[0m\u001b[0mupdates\u001b[0m\u001b[1;33m,\u001b[0m \u001b[1;33m**\u001b[0m\u001b[0mkwargs\u001b[0m\u001b[1;33m)\u001b[0m\u001b[1;33m\u001b[0m\u001b[0m\n\u001b[0m\u001b[0;32m    529\u001b[0m \u001b[1;33m\u001b[0m\u001b[0m\n\u001b[0;32m    530\u001b[0m \u001b[1;33m\u001b[0m\u001b[0m\n",
      "\u001b[1;32m/home/julien/kaggle/venv/local/lib/python2.7/site-packages/keras/backend/theano_backend.pyc\u001b[0m in \u001b[0;36m__init__\u001b[1;34m(self, inputs, outputs, updates, **kwargs)\u001b[0m\n\u001b[0;32m    512\u001b[0m                                         \u001b[0mallow_input_downcast\u001b[0m\u001b[1;33m=\u001b[0m\u001b[0mTrue\u001b[0m\u001b[1;33m,\u001b[0m\u001b[1;33m\u001b[0m\u001b[0m\n\u001b[0;32m    513\u001b[0m                                         \u001b[0mon_unused_input\u001b[0m\u001b[1;33m=\u001b[0m\u001b[1;34m'warn'\u001b[0m\u001b[1;33m,\u001b[0m\u001b[1;33m\u001b[0m\u001b[0m\n\u001b[1;32m--> 514\u001b[1;33m                                         **kwargs)\n\u001b[0m\u001b[0;32m    515\u001b[0m \u001b[1;33m\u001b[0m\u001b[0m\n\u001b[0;32m    516\u001b[0m     \u001b[1;32mdef\u001b[0m \u001b[0m__call__\u001b[0m\u001b[1;33m(\u001b[0m\u001b[0mself\u001b[0m\u001b[1;33m,\u001b[0m \u001b[0minputs\u001b[0m\u001b[1;33m)\u001b[0m\u001b[1;33m:\u001b[0m\u001b[1;33m\u001b[0m\u001b[0m\n",
      "\u001b[1;32m/home/julien/kaggle/venv/local/lib/python2.7/site-packages/theano/compile/function.pyc\u001b[0m in \u001b[0;36mfunction\u001b[1;34m(inputs, outputs, mode, updates, givens, no_default_updates, accept_inplace, name, rebuild_strict, allow_input_downcast, profile, on_unused_input)\u001b[0m\n\u001b[0;32m    318\u001b[0m                    \u001b[0mon_unused_input\u001b[0m\u001b[1;33m=\u001b[0m\u001b[0mon_unused_input\u001b[0m\u001b[1;33m,\u001b[0m\u001b[1;33m\u001b[0m\u001b[0m\n\u001b[0;32m    319\u001b[0m                    \u001b[0mprofile\u001b[0m\u001b[1;33m=\u001b[0m\u001b[0mprofile\u001b[0m\u001b[1;33m,\u001b[0m\u001b[1;33m\u001b[0m\u001b[0m\n\u001b[1;32m--> 320\u001b[1;33m                    output_keys=output_keys)\n\u001b[0m\u001b[0;32m    321\u001b[0m     \u001b[1;31m# We need to add the flag check_aliased inputs if we have any mutable or\u001b[0m\u001b[1;33m\u001b[0m\u001b[1;33m\u001b[0m\u001b[0m\n\u001b[0;32m    322\u001b[0m     \u001b[1;31m# borrowed used defined inputs\u001b[0m\u001b[1;33m\u001b[0m\u001b[1;33m\u001b[0m\u001b[0m\n",
      "\u001b[1;32m/home/julien/kaggle/venv/local/lib/python2.7/site-packages/theano/compile/pfunc.pyc\u001b[0m in \u001b[0;36mpfunc\u001b[1;34m(params, outputs, mode, updates, givens, no_default_updates, accept_inplace, name, rebuild_strict, allow_input_downcast, profile, on_unused_input, output_keys)\u001b[0m\n\u001b[0;32m    477\u001b[0m                          \u001b[0maccept_inplace\u001b[0m\u001b[1;33m=\u001b[0m\u001b[0maccept_inplace\u001b[0m\u001b[1;33m,\u001b[0m \u001b[0mname\u001b[0m\u001b[1;33m=\u001b[0m\u001b[0mname\u001b[0m\u001b[1;33m,\u001b[0m\u001b[1;33m\u001b[0m\u001b[0m\n\u001b[0;32m    478\u001b[0m                          \u001b[0mprofile\u001b[0m\u001b[1;33m=\u001b[0m\u001b[0mprofile\u001b[0m\u001b[1;33m,\u001b[0m \u001b[0mon_unused_input\u001b[0m\u001b[1;33m=\u001b[0m\u001b[0mon_unused_input\u001b[0m\u001b[1;33m,\u001b[0m\u001b[1;33m\u001b[0m\u001b[0m\n\u001b[1;32m--> 479\u001b[1;33m                          output_keys=output_keys)\n\u001b[0m\u001b[0;32m    480\u001b[0m \u001b[1;33m\u001b[0m\u001b[0m\n\u001b[0;32m    481\u001b[0m \u001b[1;33m\u001b[0m\u001b[0m\n",
      "\u001b[1;32m/home/julien/kaggle/venv/local/lib/python2.7/site-packages/theano/compile/function_module.pyc\u001b[0m in \u001b[0;36morig_function\u001b[1;34m(inputs, outputs, mode, accept_inplace, name, profile, on_unused_input, output_keys)\u001b[0m\n\u001b[0;32m   1774\u001b[0m                    \u001b[0mprofile\u001b[0m\u001b[1;33m=\u001b[0m\u001b[0mprofile\u001b[0m\u001b[1;33m,\u001b[0m\u001b[1;33m\u001b[0m\u001b[0m\n\u001b[0;32m   1775\u001b[0m                    \u001b[0mon_unused_input\u001b[0m\u001b[1;33m=\u001b[0m\u001b[0mon_unused_input\u001b[0m\u001b[1;33m,\u001b[0m\u001b[1;33m\u001b[0m\u001b[0m\n\u001b[1;32m-> 1776\u001b[1;33m                    \u001b[0moutput_keys\u001b[0m\u001b[1;33m=\u001b[0m\u001b[0moutput_keys\u001b[0m\u001b[1;33m)\u001b[0m\u001b[1;33m.\u001b[0m\u001b[0mcreate\u001b[0m\u001b[1;33m(\u001b[0m\u001b[1;33m\u001b[0m\u001b[0m\n\u001b[0m\u001b[0;32m   1777\u001b[0m             defaults)\n\u001b[0;32m   1778\u001b[0m \u001b[1;33m\u001b[0m\u001b[0m\n",
      "\u001b[1;32m/home/julien/kaggle/venv/local/lib/python2.7/site-packages/theano/compile/function_module.pyc\u001b[0m in \u001b[0;36m__init__\u001b[1;34m(self, inputs, outputs, mode, accept_inplace, function_builder, profile, on_unused_input, fgraph, output_keys)\u001b[0m\n\u001b[0;32m   1426\u001b[0m             \u001b[1;31m# OUTPUT VARIABLES)\u001b[0m\u001b[1;33m\u001b[0m\u001b[1;33m\u001b[0m\u001b[0m\n\u001b[0;32m   1427\u001b[0m             fgraph, additional_outputs = std_fgraph(inputs, outputs,\n\u001b[1;32m-> 1428\u001b[1;33m                                                     accept_inplace)\n\u001b[0m\u001b[0;32m   1429\u001b[0m             \u001b[0mfgraph\u001b[0m\u001b[1;33m.\u001b[0m\u001b[0mprofile\u001b[0m \u001b[1;33m=\u001b[0m \u001b[0mprofile\u001b[0m\u001b[1;33m\u001b[0m\u001b[0m\n\u001b[0;32m   1430\u001b[0m         \u001b[1;32melse\u001b[0m\u001b[1;33m:\u001b[0m\u001b[1;33m\u001b[0m\u001b[0m\n",
      "\u001b[1;32m/home/julien/kaggle/venv/local/lib/python2.7/site-packages/theano/compile/function_module.pyc\u001b[0m in \u001b[0;36mstd_fgraph\u001b[1;34m(input_specs, output_specs, accept_inplace)\u001b[0m\n\u001b[0;32m    175\u001b[0m \u001b[1;33m\u001b[0m\u001b[0m\n\u001b[0;32m    176\u001b[0m     fgraph = gof.fg.FunctionGraph(orig_inputs, orig_outputs,\n\u001b[1;32m--> 177\u001b[1;33m                                   update_mapping=update_mapping)\n\u001b[0m\u001b[0;32m    178\u001b[0m \u001b[1;33m\u001b[0m\u001b[0m\n\u001b[0;32m    179\u001b[0m     \u001b[1;32mfor\u001b[0m \u001b[0mnode\u001b[0m \u001b[1;32min\u001b[0m \u001b[0mfgraph\u001b[0m\u001b[1;33m.\u001b[0m\u001b[0mapply_nodes\u001b[0m\u001b[1;33m:\u001b[0m\u001b[1;33m\u001b[0m\u001b[0m\n",
      "\u001b[1;32m/home/julien/kaggle/venv/local/lib/python2.7/site-packages/theano/gof/fg.pyc\u001b[0m in \u001b[0;36m__init__\u001b[1;34m(self, inputs, outputs, features, clone, update_mapping)\u001b[0m\n\u001b[0;32m    169\u001b[0m \u001b[1;33m\u001b[0m\u001b[0m\n\u001b[0;32m    170\u001b[0m         \u001b[1;32mfor\u001b[0m \u001b[0moutput\u001b[0m \u001b[1;32min\u001b[0m \u001b[0moutputs\u001b[0m\u001b[1;33m:\u001b[0m\u001b[1;33m\u001b[0m\u001b[0m\n\u001b[1;32m--> 171\u001b[1;33m             \u001b[0mself\u001b[0m\u001b[1;33m.\u001b[0m\u001b[0m__import_r__\u001b[0m\u001b[1;33m(\u001b[0m\u001b[0moutput\u001b[0m\u001b[1;33m,\u001b[0m \u001b[0mreason\u001b[0m\u001b[1;33m=\u001b[0m\u001b[1;34m\"init\"\u001b[0m\u001b[1;33m)\u001b[0m\u001b[1;33m\u001b[0m\u001b[0m\n\u001b[0m\u001b[0;32m    172\u001b[0m         \u001b[1;32mfor\u001b[0m \u001b[0mi\u001b[0m\u001b[1;33m,\u001b[0m \u001b[0moutput\u001b[0m \u001b[1;32min\u001b[0m \u001b[0menumerate\u001b[0m\u001b[1;33m(\u001b[0m\u001b[0moutputs\u001b[0m\u001b[1;33m)\u001b[0m\u001b[1;33m:\u001b[0m\u001b[1;33m\u001b[0m\u001b[0m\n\u001b[0;32m    173\u001b[0m             \u001b[0moutput\u001b[0m\u001b[1;33m.\u001b[0m\u001b[0mclients\u001b[0m\u001b[1;33m.\u001b[0m\u001b[0mappend\u001b[0m\u001b[1;33m(\u001b[0m\u001b[1;33m(\u001b[0m\u001b[1;34m'output'\u001b[0m\u001b[1;33m,\u001b[0m \u001b[0mi\u001b[0m\u001b[1;33m)\u001b[0m\u001b[1;33m)\u001b[0m\u001b[1;33m\u001b[0m\u001b[0m\n",
      "\u001b[1;32m/home/julien/kaggle/venv/local/lib/python2.7/site-packages/theano/gof/fg.pyc\u001b[0m in \u001b[0;36m__import_r__\u001b[1;34m(self, variable, reason)\u001b[0m\n\u001b[0;32m    358\u001b[0m         \u001b[1;31m# Imports the owners of the variables\u001b[0m\u001b[1;33m\u001b[0m\u001b[1;33m\u001b[0m\u001b[0m\n\u001b[0;32m    359\u001b[0m         \u001b[1;32mif\u001b[0m \u001b[0mvariable\u001b[0m\u001b[1;33m.\u001b[0m\u001b[0mowner\u001b[0m \u001b[1;32mand\u001b[0m \u001b[0mvariable\u001b[0m\u001b[1;33m.\u001b[0m\u001b[0mowner\u001b[0m \u001b[1;32mnot\u001b[0m \u001b[1;32min\u001b[0m \u001b[0mself\u001b[0m\u001b[1;33m.\u001b[0m\u001b[0mapply_nodes\u001b[0m\u001b[1;33m:\u001b[0m\u001b[1;33m\u001b[0m\u001b[0m\n\u001b[1;32m--> 360\u001b[1;33m                 \u001b[0mself\u001b[0m\u001b[1;33m.\u001b[0m\u001b[0m__import__\u001b[0m\u001b[1;33m(\u001b[0m\u001b[0mvariable\u001b[0m\u001b[1;33m.\u001b[0m\u001b[0mowner\u001b[0m\u001b[1;33m,\u001b[0m \u001b[0mreason\u001b[0m\u001b[1;33m=\u001b[0m\u001b[0mreason\u001b[0m\u001b[1;33m)\u001b[0m\u001b[1;33m\u001b[0m\u001b[0m\n\u001b[0m\u001b[0;32m    361\u001b[0m         if (variable.owner is None and\n\u001b[0;32m    362\u001b[0m                 \u001b[1;32mnot\u001b[0m \u001b[0misinstance\u001b[0m\u001b[1;33m(\u001b[0m\u001b[0mvariable\u001b[0m\u001b[1;33m,\u001b[0m \u001b[0mgraph\u001b[0m\u001b[1;33m.\u001b[0m\u001b[0mConstant\u001b[0m\u001b[1;33m)\u001b[0m \u001b[1;32mand\u001b[0m\u001b[1;33m\u001b[0m\u001b[0m\n",
      "\u001b[1;32m/home/julien/kaggle/venv/local/lib/python2.7/site-packages/theano/gof/fg.pyc\u001b[0m in \u001b[0;36m__import__\u001b[1;34m(self, apply_node, check, reason)\u001b[0m\n\u001b[0;32m    472\u001b[0m                             \u001b[1;34m\"for more information on this error.\"\u001b[0m\u001b[1;33m\u001b[0m\u001b[0m\n\u001b[0;32m    473\u001b[0m                             % str(node)),\n\u001b[1;32m--> 474\u001b[1;33m                             r)\n\u001b[0m\u001b[0;32m    475\u001b[0m \u001b[1;33m\u001b[0m\u001b[0m\n\u001b[0;32m    476\u001b[0m         \u001b[1;32mfor\u001b[0m \u001b[0mnode\u001b[0m \u001b[1;32min\u001b[0m \u001b[0mnew_nodes\u001b[0m\u001b[1;33m:\u001b[0m\u001b[1;33m\u001b[0m\u001b[0m\n",
      "\u001b[1;31mMissingInputError\u001b[0m: (\"An input of the graph, used to compute dot(gen_input, HostFromGpu.0), was not provided and not given a value.Use the Theano flag exception_verbosity='high',for more information on this error.\", gen_input)"
     ]
    }
   ],
   "source": [
    "NOISE_SIZE = 20\n",
    "\n",
    "def get_batches(batch_size):\n",
    "    for i in range(X_train.shape[0]/batch_size):\n",
    "        yield i, X_train[i*batch_size : (i + 1) * batch_size]\n",
    "\n",
    "# -------------- Generator\n",
    "gen_input = x = Input(shape=(NOISE_SIZE,), name='gen_input')\n",
    "x = Dense(64*4*4)(x)\n",
    "x = BatchNormalization()(x)\n",
    "x = Activation('relu')(x)\n",
    "x = Reshape((64, 4, 4))(x)\n",
    "x = UpSampling2D(size=(2, 2))(x)\n",
    "x = Convolution2D(32, 5, 5, border_mode='same')(x)\n",
    "x = BatchNormalization()(x)\n",
    "x = Activation('relu')(x)\n",
    "x = UpSampling2D(size=(2, 2))(x)\n",
    "x = Convolution2D(32, 5, 5, border_mode='same')(x)\n",
    "x = BatchNormalization()(x)\n",
    "x = Activation('relu')(x)\n",
    "x = UpSampling2D(size=(2, 2))(x)\n",
    "x = Convolution2D(32, 5, 5, border_mode='same')(x)\n",
    "x = BatchNormalization()(x)\n",
    "x = Activation('relu')(x)\n",
    "x = UpSampling2D(size=(2, 2))(x)\n",
    "x = Convolution2D(32, 5, 5, border_mode='same')(x)\n",
    "x = BatchNormalization()(x)\n",
    "x = Activation('relu')(x)\n",
    "x = UpSampling2D(size=(2, 2))(x)\n",
    "x = Convolution2D(1, 5, 5, border_mode='same')(x)\n",
    "gen_out = x = Activation('tanh')(x)\n",
    "\n",
    "generator = Model(\n",
    "    input=gen_input,\n",
    "    output=gen_out\n",
    ")\n",
    "\n",
    "# -------------- Discriminator\n",
    "disc_input = x = Input(shape=(1, 128, 128), name='disc_input')\n",
    "x = Convolution2D(32, 5, 5, subsample=(2, 2), border_mode='same')(x)\n",
    "x = LeakyReLU(0.2)(x)\n",
    "x = BatchNormalization()(x)\n",
    "x = Convolution2D(32, 5, 5, subsample=(2, 2), border_mode='same')(x)\n",
    "x = LeakyReLU(0.2)(x)\n",
    "x = BatchNormalization()(x)\n",
    "x = Convolution2D(32, 5, 5, subsample=(2, 2), border_mode='same')(x)\n",
    "x = LeakyReLU(0.2)(x)\n",
    "x = BatchNormalization()(x)\n",
    "x = Convolution2D(32, 5, 5, subsample=(2, 2), border_mode='same')(x)\n",
    "x = LeakyReLU(0.2)(x)\n",
    "x = BatchNormalization()(x)\n",
    "x = Convolution2D(32, 5, 5, subsample=(2, 2), border_mode='same')(x)\n",
    "x = LeakyReLU(0.2)(x)\n",
    "x = BatchNormalization()(x)\n",
    "x = Flatten()(x)\n",
    "disc_out = Dense(1, activation='sigmoid')(x)\n",
    "discriminator = Model(\n",
    "    input=disc_input,\n",
    "    output=disc_out\n",
    ")\n",
    "\n",
    "# -------------- Both chained\n",
    "disc_on_gen_input = Input(shape=(NOISE_SIZE,), name='disc_on_gen_input')\n",
    "for l in discriminator.layers:\n",
    "    l.trainable = False\n",
    "discriminator_on_generator = Model(\n",
    "    input=disc_on_gen_input,\n",
    "    output=discriminator(generator(disc_on_gen_input))\n",
    ")\n",
    "\n",
    "adam=Adam(lr=0.0002, beta_1=0.5, beta_2=0.999, epsilon=1e-08)\n",
    "generator.compile(loss='binary_crossentropy', optimizer=adam)\n",
    "\n",
    "discriminator_on_generator.compile(loss='binary_crossentropy', optimizer=adam)\n",
    "\n",
    "for l in discriminator.layers:\n",
    "    l.trainable = True\n",
    "discriminator.compile(loss='binary_crossentropy', optimizer=adam)\n",
    "\n",
    "BATCH_SIZE=64\n",
    "\n",
    "for epoch in range(5):\n",
    "    print \"Epoch is\", epoch\n",
    "    print \"Number of batches\", X_train.shape[0] / BATCH_SIZE\n",
    "    for index, image_batch in get_batches(batch_size=BATCH_SIZE):\n",
    "        noise = np.zeros((BATCH_SIZE, NOISE_SIZE))\n",
    "        for i in range(BATCH_SIZE):\n",
    "            noise[i, : ] = np.random.uniform(-1, 1, NOISE_SIZE)\n",
    "\n",
    "        print 'Generating images..'\n",
    "        generated_images = generator.predict(noise)\n",
    "        print 'Generated..'\n",
    "        for i, img in enumerate(generated_images):\n",
    "            rolled = np.rollaxis(img, 0, 3)\n",
    "            cv2.imwrite(str(i) + \".jpg\", np.uint8(255 * 0.5 * (rolled + 1.0)))\n",
    "\n",
    "        X = np.concatenate((image_batch, generated_images))\n",
    "\n",
    "        y = [1] * BATCH_SIZE + [0] * BATCH_SIZE\n",
    "        print \"Batch\", index, \"Training discriminator..\"\n",
    "        d_loss = discriminator.train_on_batch(X, y)\n",
    "\n",
    "        for j in range(1):\n",
    "            noise = np.zeros((BATCH_SIZE, NOISE_SIZE))\n",
    "            for i in range(BATCH_SIZE):\n",
    "                noise[i, : ] = np.random.uniform(-1, 1, NOISE_SIZE)\n",
    "\n",
    "            print \"Training generator..\"\n",
    "            g_loss = discriminator_on_generator.train_on_batch(noise, [1] * BATCH_SIZE)\n",
    "            print \"Generator loss\", g_loss, \"Discriminator loss\", d_loss, \"Total:\", g_loss[0] + d_loss[0]\n",
    "\n",
    "        if index % 10 == 9:\n",
    "            print 'Saving weights..'\n",
    "            generator.save_weights('generator', True)\n",
    "            discriminator.save_weights('discriminator', True)"
   ]
  },
  {
   "cell_type": "code",
   "execution_count": 78,
   "metadata": {
    "collapsed": false
   },
   "outputs": [
    {
     "data": {
      "text/plain": [
       "(None, 20)"
      ]
     },
     "execution_count": 78,
     "metadata": {},
     "output_type": "execute_result"
    }
   ],
   "source": [
    "#g_loss = discriminator_on_generator.fit(noise, [1] * BATCH_SIZE)\n",
    "discriminator_on_generator.get_input_shape_at(0)"
   ]
  },
  {
   "cell_type": "code",
   "execution_count": null,
   "metadata": {
    "collapsed": true
   },
   "outputs": [],
   "source": [
    "g_loss = discriminator_on_generator.fit"
   ]
  },
  {
   "cell_type": "code",
   "execution_count": 74,
   "metadata": {
    "collapsed": false,
    "scrolled": false
   },
   "outputs": [
    {
     "name": "stdout",
     "output_type": "stream",
     "text": [
      "____________________________________________________________________________________________________\n",
      "Layer (type)                       Output Shape        Param #     Connected to                     \n",
      "====================================================================================================\n",
      "gen_input (InputLayer)             (None, 20)          0                                            \n",
      "____________________________________________________________________________________________________\n",
      "dense_31 (Dense)                   (None, 1024)        21504       gen_input[0][0]                  \n",
      "____________________________________________________________________________________________________\n",
      "batchnormalization_152 (BatchNormal(None, 1024)        2048        dense_31[0][0]                   \n",
      "____________________________________________________________________________________________________\n",
      "activation_96 (Activation)         (None, 1024)        0           batchnormalization_152[0][0]     \n",
      "____________________________________________________________________________________________________\n",
      "reshape_15 (Reshape)               (None, 64, 4, 4)    0           activation_96[0][0]              \n",
      "____________________________________________________________________________________________________\n",
      "upsampling2d_71 (UpSampling2D)     (None, 64, 8, 8)    0           reshape_15[0][0]                 \n",
      "____________________________________________________________________________________________________\n",
      "convolution2d_146 (Convolution2D)  (None, 32, 8, 8)    51232       upsampling2d_71[0][0]            \n",
      "____________________________________________________________________________________________________\n",
      "batchnormalization_153 (BatchNormal(None, 32, 8, 8)    16          convolution2d_146[0][0]          \n",
      "____________________________________________________________________________________________________\n",
      "activation_97 (Activation)         (None, 32, 8, 8)    0           batchnormalization_153[0][0]     \n",
      "____________________________________________________________________________________________________\n",
      "upsampling2d_72 (UpSampling2D)     (None, 32, 16, 16)  0           activation_97[0][0]              \n",
      "____________________________________________________________________________________________________\n",
      "convolution2d_147 (Convolution2D)  (None, 32, 16, 16)  25632       upsampling2d_72[0][0]            \n",
      "____________________________________________________________________________________________________\n",
      "batchnormalization_154 (BatchNormal(None, 32, 16, 16)  32          convolution2d_147[0][0]          \n",
      "____________________________________________________________________________________________________\n",
      "activation_98 (Activation)         (None, 32, 16, 16)  0           batchnormalization_154[0][0]     \n",
      "____________________________________________________________________________________________________\n",
      "upsampling2d_73 (UpSampling2D)     (None, 32, 32, 32)  0           activation_98[0][0]              \n",
      "____________________________________________________________________________________________________\n",
      "convolution2d_148 (Convolution2D)  (None, 32, 32, 32)  25632       upsampling2d_73[0][0]            \n",
      "____________________________________________________________________________________________________\n",
      "batchnormalization_155 (BatchNormal(None, 32, 32, 32)  64          convolution2d_148[0][0]          \n",
      "____________________________________________________________________________________________________\n",
      "activation_99 (Activation)         (None, 32, 32, 32)  0           batchnormalization_155[0][0]     \n",
      "____________________________________________________________________________________________________\n",
      "upsampling2d_74 (UpSampling2D)     (None, 32, 64, 64)  0           activation_99[0][0]              \n",
      "____________________________________________________________________________________________________\n",
      "convolution2d_149 (Convolution2D)  (None, 32, 64, 64)  25632       upsampling2d_74[0][0]            \n",
      "____________________________________________________________________________________________________\n",
      "batchnormalization_156 (BatchNormal(None, 32, 64, 64)  128         convolution2d_149[0][0]          \n",
      "____________________________________________________________________________________________________\n",
      "activation_100 (Activation)        (None, 32, 64, 64)  0           batchnormalization_156[0][0]     \n",
      "____________________________________________________________________________________________________\n",
      "upsampling2d_75 (UpSampling2D)     (None, 32, 128, 128)0           activation_100[0][0]             \n",
      "____________________________________________________________________________________________________\n",
      "convolution2d_150 (Convolution2D)  (None, 1, 128, 128) 801         upsampling2d_75[0][0]            \n",
      "____________________________________________________________________________________________________\n",
      "activation_101 (Activation)        (None, 1, 128, 128) 0           convolution2d_150[0][0]          \n",
      "====================================================================================================\n",
      "Total params: 152721\n",
      "____________________________________________________________________________________________________\n",
      "____________________________________________________________________________________________________\n",
      "Layer (type)                       Output Shape        Param #     Connected to                     \n",
      "====================================================================================================\n",
      "disc_input (InputLayer)            (None, 1, 128, 128) 0                                            \n",
      "____________________________________________________________________________________________________\n",
      "convolution2d_151 (Convolution2D)  (None, 32, 64, 64)  832         disc_input[0][0]                 \n",
      "____________________________________________________________________________________________________\n",
      "leakyrelu_81 (LeakyReLU)           (None, 32, 64, 64)  0           convolution2d_151[0][0]          \n",
      "____________________________________________________________________________________________________\n",
      "batchnormalization_157 (BatchNormal(None, 32, 64, 64)  128         leakyrelu_81[0][0]               \n",
      "____________________________________________________________________________________________________\n",
      "convolution2d_152 (Convolution2D)  (None, 32, 32, 32)  25632       batchnormalization_157[0][0]     \n",
      "____________________________________________________________________________________________________\n",
      "leakyrelu_82 (LeakyReLU)           (None, 32, 32, 32)  0           convolution2d_152[0][0]          \n",
      "____________________________________________________________________________________________________\n",
      "batchnormalization_158 (BatchNormal(None, 32, 32, 32)  64          leakyrelu_82[0][0]               \n",
      "____________________________________________________________________________________________________\n",
      "convolution2d_153 (Convolution2D)  (None, 32, 16, 16)  25632       batchnormalization_158[0][0]     \n",
      "____________________________________________________________________________________________________\n",
      "leakyrelu_83 (LeakyReLU)           (None, 32, 16, 16)  0           convolution2d_153[0][0]          \n",
      "____________________________________________________________________________________________________\n",
      "batchnormalization_159 (BatchNormal(None, 32, 16, 16)  32          leakyrelu_83[0][0]               \n",
      "____________________________________________________________________________________________________\n",
      "convolution2d_154 (Convolution2D)  (None, 32, 8, 8)    25632       batchnormalization_159[0][0]     \n",
      "____________________________________________________________________________________________________\n",
      "leakyrelu_84 (LeakyReLU)           (None, 32, 8, 8)    0           convolution2d_154[0][0]          \n",
      "____________________________________________________________________________________________________\n",
      "batchnormalization_160 (BatchNormal(None, 32, 8, 8)    16          leakyrelu_84[0][0]               \n",
      "____________________________________________________________________________________________________\n",
      "convolution2d_155 (Convolution2D)  (None, 32, 4, 4)    25632       batchnormalization_160[0][0]     \n",
      "____________________________________________________________________________________________________\n",
      "leakyrelu_85 (LeakyReLU)           (None, 32, 4, 4)    0           convolution2d_155[0][0]          \n",
      "____________________________________________________________________________________________________\n",
      "batchnormalization_161 (BatchNormal(None, 32, 4, 4)    8           leakyrelu_85[0][0]               \n",
      "____________________________________________________________________________________________________\n",
      "flatten_17 (Flatten)               (None, 512)         0           batchnormalization_161[0][0]     \n",
      "____________________________________________________________________________________________________\n",
      "dense_32 (Dense)                   (None, 1)           513         flatten_17[0][0]                 \n",
      "====================================================================================================\n",
      "Total params: 104121\n",
      "____________________________________________________________________________________________________\n",
      "____________________________________________________________________________________________________\n",
      "Layer (type)                       Output Shape        Param #     Connected to                     \n",
      "====================================================================================================\n",
      "gen_input (InputLayer)             (None, 20)          0                                            \n",
      "____________________________________________________________________________________________________\n",
      "dense_31 (Dense)                   (None, 1024)        21504       gen_input[0][0]                  \n",
      "____________________________________________________________________________________________________\n",
      "batchnormalization_152 (BatchNormal(None, 1024)        2048        dense_31[0][0]                   \n",
      "____________________________________________________________________________________________________\n",
      "activation_96 (Activation)         (None, 1024)        0           batchnormalization_152[0][0]     \n",
      "____________________________________________________________________________________________________\n",
      "reshape_15 (Reshape)               (None, 64, 4, 4)    0           activation_96[0][0]              \n",
      "____________________________________________________________________________________________________\n",
      "upsampling2d_71 (UpSampling2D)     (None, 64, 8, 8)    0           reshape_15[0][0]                 \n",
      "____________________________________________________________________________________________________\n",
      "convolution2d_146 (Convolution2D)  (None, 32, 8, 8)    51232       upsampling2d_71[0][0]            \n",
      "____________________________________________________________________________________________________\n",
      "batchnormalization_153 (BatchNormal(None, 32, 8, 8)    16          convolution2d_146[0][0]          \n",
      "____________________________________________________________________________________________________\n",
      "activation_97 (Activation)         (None, 32, 8, 8)    0           batchnormalization_153[0][0]     \n",
      "____________________________________________________________________________________________________\n",
      "upsampling2d_72 (UpSampling2D)     (None, 32, 16, 16)  0           activation_97[0][0]              \n",
      "____________________________________________________________________________________________________\n",
      "convolution2d_147 (Convolution2D)  (None, 32, 16, 16)  25632       upsampling2d_72[0][0]            \n",
      "____________________________________________________________________________________________________\n",
      "batchnormalization_154 (BatchNormal(None, 32, 16, 16)  32          convolution2d_147[0][0]          \n",
      "____________________________________________________________________________________________________\n",
      "activation_98 (Activation)         (None, 32, 16, 16)  0           batchnormalization_154[0][0]     \n",
      "____________________________________________________________________________________________________\n",
      "upsampling2d_73 (UpSampling2D)     (None, 32, 32, 32)  0           activation_98[0][0]              \n",
      "____________________________________________________________________________________________________\n",
      "convolution2d_148 (Convolution2D)  (None, 32, 32, 32)  25632       upsampling2d_73[0][0]            \n",
      "____________________________________________________________________________________________________\n",
      "batchnormalization_155 (BatchNormal(None, 32, 32, 32)  64          convolution2d_148[0][0]          \n",
      "____________________________________________________________________________________________________\n",
      "activation_99 (Activation)         (None, 32, 32, 32)  0           batchnormalization_155[0][0]     \n",
      "____________________________________________________________________________________________________\n",
      "upsampling2d_74 (UpSampling2D)     (None, 32, 64, 64)  0           activation_99[0][0]              \n",
      "____________________________________________________________________________________________________\n",
      "convolution2d_149 (Convolution2D)  (None, 32, 64, 64)  25632       upsampling2d_74[0][0]            \n",
      "____________________________________________________________________________________________________\n",
      "batchnormalization_156 (BatchNormal(None, 32, 64, 64)  128         convolution2d_149[0][0]          \n",
      "____________________________________________________________________________________________________\n",
      "activation_100 (Activation)        (None, 32, 64, 64)  0           batchnormalization_156[0][0]     \n",
      "____________________________________________________________________________________________________\n",
      "upsampling2d_75 (UpSampling2D)     (None, 32, 128, 128)0           activation_100[0][0]             \n",
      "____________________________________________________________________________________________________\n",
      "convolution2d_150 (Convolution2D)  (None, 1, 128, 128) 801         upsampling2d_75[0][0]            \n",
      "____________________________________________________________________________________________________\n",
      "activation_101 (Activation)        (None, 1, 128, 128) 0           convolution2d_150[0][0]          \n",
      "____________________________________________________________________________________________________\n",
      "model_17 (Model)                   (None, 1)           104121      activation_101[0][0]             \n",
      "====================================================================================================\n",
      "Total params: 256842\n",
      "____________________________________________________________________________________________________\n"
     ]
    }
   ],
   "source": [
    "print_summary(generator.layers)\n",
    "print_summary(discriminator.layers)\n",
    "print_summary(discriminator_on_generator.layers)"
   ]
  }
 ],
 "metadata": {
  "kernelspec": {
   "display_name": "Python 2",
   "language": "python",
   "name": "python2"
  },
  "language_info": {
   "codemirror_mode": {
    "name": "ipython",
    "version": 2
   },
   "file_extension": ".py",
   "mimetype": "text/x-python",
   "name": "python",
   "nbconvert_exporter": "python",
   "pygments_lexer": "ipython2",
   "version": "2.7.6"
  }
 },
 "nbformat": 4,
 "nbformat_minor": 0
}
