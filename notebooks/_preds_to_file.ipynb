{
 "cells": [
  {
   "cell_type": "markdown",
   "metadata": {},
   "source": [
    "## run-length encode predicted masks"
   ]
  },
  {
   "cell_type": "code",
   "execution_count": 1,
   "metadata": {
    "collapsed": false
   },
   "outputs": [],
   "source": [
    "import utils\n",
    "import cv2\n",
    "import glob\n",
    "import os\n",
    "\n",
    "%load_ext Cython"
   ]
  },
  {
   "cell_type": "code",
   "execution_count": 2,
   "metadata": {
    "collapsed": false
   },
   "outputs": [],
   "source": [
    "%%cython\n",
    "#%%cython --annotate\n",
    "from cython cimport view\n",
    "\n",
    "cimport cython\n",
    "cimport numpy as np\n",
    "cimport openmp\n",
    "import numpy as np\n",
    "\n",
    "@cython.boundscheck(False)\n",
    "def runlen_encode(img):\n",
    "    cdef np.uint8_t[::1] c_img = img.reshape(img.shape[0] * img.shape[1], order='F')\n",
    "    runs = []\n",
    "    cdef int npixels = len(c_img)\n",
    "    cdef np.uint8_t c\n",
    "    \n",
    "    cdef int run_start = 1\n",
    "    cdef int run_length = 0\n",
    "    for i in range(npixels):\n",
    "        c = c_img[i]\n",
    "        if c == 0:\n",
    "            if run_length != 0:\n",
    "                # for kaggle, pixels are numbered from 1, hence the + 1\n",
    "                runs.append((run_start + 1, run_length))\n",
    "                run_length = 0\n",
    "        else:\n",
    "            if run_length == 0:\n",
    "                run_start = i\n",
    "            run_length += 1\n",
    "    \n",
    "    if run_length != 0:\n",
    "        # for kaggle, pixels are numbered from 1, hence the + 1\n",
    "        runs.append((run_start + 1, run_length))\n",
    "    return runs"
   ]
  },
  {
   "cell_type": "code",
   "execution_count": 3,
   "metadata": {
    "collapsed": false
   },
   "outputs": [
    {
     "name": "stdout",
     "output_type": "stream",
     "text": [
      "255\n"
     ]
    }
   ],
   "source": [
    "#fname = '../../preds_2016_06_05/000000.png'\n",
    "fname = '../data/train/1_1_mask.tif'\n",
    "img = img = cv2.imread(fname, cv2.IMREAD_GRAYSCALE)\n",
    "print img.max()\n",
    "\n",
    "runs = runlen_encode(img)"
   ]
  },
  {
   "cell_type": "code",
   "execution_count": 4,
   "metadata": {
    "collapsed": false
   },
   "outputs": [
    {
     "name": "stdout",
     "output_type": "stream",
     "text": [
      "5500 / 5508\n"
     ]
    }
   ],
   "source": [
    "import sys\n",
    "\n",
    "PRED_DIR='../../preds'\n",
    "#PRED_DIR='../../preds_closed'\n",
    "OUT_SUBMISSION = '../submissions/submission.csv'\n",
    "\n",
    "test_fnames = ['%d.png' % i for i in range(1,5509)]\n",
    "\n",
    "with open(OUT_SUBMISSION, 'w') as f:\n",
    "    f.write('img,pixels\\n')\n",
    "    for i, fname in enumerate(test_fnames):\n",
    "        img = cv2.imread(os.path.join(PRED_DIR, fname), cv2.IMREAD_GRAYSCALE)\n",
    "        if i % 10 == 0:\n",
    "            print '\\r%d / %d' % (i, len(test_fnames)),\n",
    "            sys.stdout.flush()\n",
    "            \n",
    "        runs = runlen_encode(img)\n",
    "        runtext = ' '.join(['%d %d' % rr for rr in runs])\n",
    "        f.write('%d,%s\\n' % (i + 1, runtext))"
   ]
  },
  {
   "cell_type": "code",
   "execution_count": null,
   "metadata": {
    "collapsed": true
   },
   "outputs": [],
   "source": []
  }
 ],
 "metadata": {
  "kernelspec": {
   "display_name": "Python 2",
   "language": "python",
   "name": "python2"
  },
  "language_info": {
   "codemirror_mode": {
    "name": "ipython",
    "version": 2
   },
   "file_extension": ".py",
   "mimetype": "text/x-python",
   "name": "python",
   "nbconvert_exporter": "python",
   "pygments_lexer": "ipython2",
   "version": "2.7.6"
  }
 },
 "nbformat": 4,
 "nbformat_minor": 0
}
