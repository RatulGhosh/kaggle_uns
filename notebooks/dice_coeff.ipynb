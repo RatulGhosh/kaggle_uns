{
 "cells": [
  {
   "cell_type": "code",
   "execution_count": 3,
   "metadata": {
    "collapsed": false
   },
   "outputs": [
    {
     "name": "stderr",
     "output_type": "stream",
     "text": [
      "/home/julien/kaggle/venv/local/lib/python2.7/site-packages/matplotlib/font_manager.py:273: UserWarning: Matplotlib is building the font cache using fc-list. This may take a moment.\n",
      "  warnings.warn('Matplotlib is building the font cache using fc-list. This may take a moment.')\n"
     ]
    }
   ],
   "source": [
    "import numpy as np\n",
    "import pylab as pl\n",
    "%matplotlib inline"
   ]
  },
  {
   "cell_type": "code",
   "execution_count": 87,
   "metadata": {
    "collapsed": true
   },
   "outputs": [],
   "source": [
    "smooth = 1.\n",
    "def dice_coef(y_true, y_pred):\n",
    "    y_true = np.array(y_true)\n",
    "    y_pred = np.array(y_pred)\n",
    "    intersection = np.sum(y_true * y_pred)\n",
    "    return (2. * intersection + smooth) / (np.sum(y_true) + np.sum(y_pred) + smooth)\n",
    "\n",
    "def binary_cross_entropy(y_true, y_pred):\n",
    "    # Ensure y_pred lies strictly between 0 and 1 to avoid log(0)\n",
    "    y_pred = np.clip(y_pred, 1e-5, 1 - 1e-5)\n",
    "    return np.mean(y_true * np.log(y_pred) + (1 - y_true) * np.log(1 - y_pred))"
   ]
  },
  {
   "cell_type": "code",
   "execution_count": 93,
   "metadata": {
    "collapsed": true
   },
   "outputs": [],
   "source": [
    "# The bend of the blue line below depends on N\n",
    "N = 600\n",
    "y_true = np.zeros(N)\n",
    "y_true[np.random.randint(N, size=50)] = 1"
   ]
  },
  {
   "cell_type": "code",
   "execution_count": 94,
   "metadata": {
    "collapsed": false,
    "scrolled": false
   },
   "outputs": [
    {
     "data": {
      "text/plain": [
       "[<matplotlib.lines.Line2D at 0x7f0efd78b510>]"
      ]
     },
     "execution_count": 94,
     "metadata": {},
     "output_type": "execute_result"
    },
    {
     "data": {
      "image/png": "[encoded data removed]",
      "text/plain": [
       "<matplotlib.figure.Figure at 0x7f0efe062d90>"
      ]
     },
     "metadata": {},
     "output_type": "display_data"
    }
   ],
   "source": [
    "err_percent = np.arange(101)\n",
    "\n",
    "dice_coefs = []\n",
    "binary_ces = []\n",
    "for pct in err_percent:\n",
    "    nerrors = int(pct * N / 100.0)\n",
    "    y_pred = y_true.copy()\n",
    "    wrong = np.random.choice(N, size=nerrors, replace=False)\n",
    "    y_pred[wrong] = (y_true[wrong] + 1) % 2\n",
    "    \n",
    "    dice_coefs.append(dice_coef(y_true, y_pred))\n",
    "    binary_ces.append(binary_cross_entropy(y_true, y_pred))\n",
    "    \n",
    "dice_coefs = np.array(dice_coefs)\n",
    "\n",
    "pl.plot(err_percent, dice_coefs)\n",
    "ax = pl.twinx()\n",
    "ax.plot(err_percent, binary_ces, c='r')"
   ]
  },
  {
   "cell_type": "code",
   "execution_count": null,
   "metadata": {
    "collapsed": true
   },
   "outputs": [],
   "source": []
  }
 ],
 "metadata": {
  "kernelspec": {
   "display_name": "Python 2",
   "language": "python",
   "name": "python2"
  },
  "language_info": {
   "codemirror_mode": {
    "name": "ipython",
    "version": 2
   },
   "file_extension": ".py",
   "mimetype": "text/x-python",
   "name": "python",
   "nbconvert_exporter": "python",
   "pygments_lexer": "ipython2",
   "version": "2.7.6"
  }
 },
 "nbformat": 4,
 "nbformat_minor": 0
}
