{
 "cells": [
  {
   "cell_type": "code",
   "execution_count": 13,
   "metadata": {
    "collapsed": false
   },
   "outputs": [
    {
     "name": "stdout",
     "output_type": "stream",
     "text": [
      "The Cython extension is already loaded. To reload it, use:\n",
      "  %reload_ext Cython\n"
     ]
    }
   ],
   "source": [
    "import utils\n",
    "import cv2\n",
    "import glob\n",
    "import os\n",
    "import sys\n",
    "import pylab as pl\n",
    "import skimage\n",
    "import matplotlib.cm as cm\n",
    "\n",
    "%load_ext Cython\n",
    "\n",
    "%matplotlib inline"
   ]
  },
  {
   "cell_type": "code",
   "execution_count": 14,
   "metadata": {
    "collapsed": true
   },
   "outputs": [],
   "source": [
    "SUBNAME = '../submissions/submission48.csv'"
   ]
  },
  {
   "cell_type": "markdown",
   "metadata": {},
   "source": [
    "# Load submissions masks"
   ]
  },
  {
   "cell_type": "code",
   "execution_count": 15,
   "metadata": {
    "collapsed": false
   },
   "outputs": [],
   "source": [
    "%%cython\n",
    "#%%cython --annotate\n",
    "from cython cimport view\n",
    "\n",
    "cimport cython\n",
    "cimport numpy as np\n",
    "cimport openmp\n",
    "import numpy as np\n",
    "\n",
    "@cython.boundscheck(False)\n",
    "@cython.cdivision(True)\n",
    "def runlen_decode(line, shape):\n",
    "    img = np.zeros(shape, order='C', dtype=np.uint8)\n",
    "    cdef np.uint8_t[::1] c_img = img.reshape(-1, order='C')\n",
    "    cdef int start\n",
    "    cdef int length\n",
    "    cdef int i\n",
    "    cdef int j\n",
    "    cdef int pix\n",
    "    \n",
    "    runs = line.split(',')[1].strip().split(' ')\n",
    "    if len(runs) > 1: # runs will be [''] for an empty image\n",
    "        runs = [int(v) for v in runs]\n",
    "        runs = zip(*(runs[0::2], runs[1::2]))\n",
    "        \n",
    "        for start, length in runs:\n",
    "            for pix in range(start, start + length):\n",
    "                c_img[pix] = 255\n",
    "     \n",
    "    return np.asarray(img, order='C').transpose()\n",
    "\n",
    "@cython.boundscheck(False)\n",
    "def runlen_encode(img):\n",
    "    cdef np.uint8_t[::1] c_img = img.reshape(img.shape[0] * img.shape[1], order='F')\n",
    "    runs = []\n",
    "    cdef int npixels = len(c_img)\n",
    "    cdef np.uint8_t c\n",
    "    \n",
    "    cdef int run_start = 1\n",
    "    cdef int run_length = 0\n",
    "    for i in range(npixels):\n",
    "        c = c_img[i]\n",
    "        if c == 0:\n",
    "            if run_length != 0:\n",
    "                # for kaggle, pixels are numbered from 1, hence the + 1\n",
    "                runs.append((run_start + 1, run_length))\n",
    "                run_length = 0\n",
    "        else:\n",
    "            if run_length == 0:\n",
    "                run_start = i\n",
    "            run_length += 1\n",
    "    \n",
    "    if run_length != 0:\n",
    "        # for kaggle, pixels are numbered from 1, hence the + 1\n",
    "        runs.append((run_start + 1, run_length))\n",
    "    return runs"
   ]
  },
  {
   "cell_type": "code",
   "execution_count": 16,
   "metadata": {
    "collapsed": false
   },
   "outputs": [
    {
     "name": "stdout",
     "output_type": "stream",
     "text": [
      "5500 / 5508\n"
     ]
    }
   ],
   "source": [
    "masks = []\n",
    "nlines = 5508\n",
    "with open(SUBNAME) as f:\n",
    "    f.readline()\n",
    "    for i, line in enumerate(f):\n",
    "        if i % 10 == 0:\n",
    "            print '\\r%d / %d' % (i, nlines),\n",
    "            sys.stdout.flush()\n",
    "        masks.append(runlen_decode(line, (580, 420)))\n",
    "        \n",
    "masks = np.array(masks)"
   ]
  },
  {
   "cell_type": "markdown",
   "metadata": {},
   "source": [
    "# Fit ellipse and correct mask"
   ]
  },
  {
   "cell_type": "code",
   "execution_count": 17,
   "metadata": {
    "collapsed": true
   },
   "outputs": [],
   "source": [
    "# Draw elipsis on image\n",
    "def draw_ellipse(mask):\n",
    "    mask = skimage.img_as_ubyte(mask.squeeze())\n",
    "    ret, thresh = cv2.threshold(mask, 127, 255, 0)\n",
    "    contours, hierarchy = cv2.findContours(thresh, 1, 2)\n",
    "    m3 = cv2.cvtColor(mask, cv2.COLOR_GRAY2RGB)\n",
    "    has_ellipse = len(contours) > 0\n",
    "    ellipse = None\n",
    "    if has_ellipse:\n",
    "        if len(contours) > 1:\n",
    "            # select largest contour\n",
    "            areas = [cv2.contourArea(cnt) for cnt in contours]\n",
    "            cnt = contours[np.argmax(areas)]\n",
    "        else:\n",
    "            cnt = contours[0]\n",
    "        ellipse = cv2.fitEllipse(cnt)\n",
    "        cx, cy = np.array(ellipse[0], dtype=np.int)\n",
    "        m3[cy-2:cy+2,cx-2:cx+2] = (255, 0, 0)\n",
    "        cv2.ellipse(m3, ellipse, (0, 255, 0), 1)\n",
    "        \n",
    "    return has_ellipse, ellipse, m3\n",
    "\n",
    "def fill_ellipse(mask):\n",
    "    has_ellipse, ellipse, img = draw_ellipse(mask)\n",
    "    if has_ellipse:\n",
    "        new_mask = np.zeros((mask.shape[0], mask.shape[1], 3), dtype=np.uint8)\n",
    "        cv2.ellipse(new_mask, ellipse, (255, 255, 255), -1)\n",
    "        new_mask = new_mask[:,:,0]\n",
    "    else:\n",
    "        new_mask = mask\n",
    "    return new_mask\n",
    "    "
   ]
  },
  {
   "cell_type": "code",
   "execution_count": 18,
   "metadata": {
    "collapsed": false
   },
   "outputs": [
    {
     "data": {
      "text/plain": [
       "<matplotlib.image.AxesImage at 0x7f9c9716b350>"
      ]
     },
     "execution_count": 18,
     "metadata": {},
     "output_type": "execute_result"
    },
    {
     "data": {
      "image/png": "[encoded data removed]",
      "text/plain": [
       "<matplotlib.figure.Figure at 0x7f9c96af21d0>"
      ]
     },
     "metadata": {},
     "output_type": "display_data"
    }
   ],
   "source": [
    "mask = masks[42]\n",
    "\n",
    "has_ellipse, ellipse, img = draw_ellipse(mask)\n",
    "new_mask = fill_ellipse(mask)\n",
    "pl.figure(figsize=(12, 4))\n",
    "pl.subplot(131)\n",
    "pl.imshow(mask)\n",
    "pl.subplot(132)\n",
    "pl.imshow(img)\n",
    "pl.subplot(133)\n",
    "pl.imshow(new_mask)"
   ]
  },
  {
   "cell_type": "code",
   "execution_count": 19,
   "metadata": {
    "collapsed": false
   },
   "outputs": [
    {
     "name": "stdout",
     "output_type": "stream",
     "text": [
      "5500 / 5508\n"
     ]
    }
   ],
   "source": [
    "new_masks = np.zeros_like(masks)\n",
    "for i in range(masks.shape[0]):\n",
    "    if i % 10 == 0:\n",
    "        print '\\r%d / %d' % (i, nlines),\n",
    "        sys.stdout.flush()\n",
    "    new_masks[i] = fill_ellipse(masks[i])"
   ]
  },
  {
   "cell_type": "code",
   "execution_count": 20,
   "metadata": {
    "collapsed": true
   },
   "outputs": [],
   "source": [
    "# binarize\n",
    "masks = masks > 0\n",
    "new_masks = new_masks > 0"
   ]
  },
  {
   "cell_type": "code",
   "execution_count": 21,
   "metadata": {
    "collapsed": false
   },
   "outputs": [],
   "source": [
    "# compute dice coeff between old and new to find biggest difference\n",
    "dice_coeffs = []\n",
    "for i in range(masks.shape[0]):\n",
    "     dice_coeffs.append(utils.dice_coefficient(masks[i], new_masks[i]))\n",
    "dice_coeffs = np.array(dice_coeffs, dtype=np.float)"
   ]
  },
  {
   "cell_type": "code",
   "execution_count": 22,
   "metadata": {
    "collapsed": false
   },
   "outputs": [
    {
     "name": "stdout",
     "output_type": "stream",
     "text": [
      "[ 0.49595781  0.63820225  0.72248481 ...,  1.          1.          1.        ]\n"
     ]
    }
   ],
   "source": [
    "order = np.argsort(dice_coeffs)\n",
    "print dice_coeffs[order]"
   ]
  },
  {
   "cell_type": "markdown",
   "metadata": {},
   "source": [
    "TODO: Could clear masks that are too close to the border or for which the ellipse fit is bad"
   ]
  },
  {
   "cell_type": "code",
   "execution_count": 23,
   "metadata": {
    "collapsed": false
   },
   "outputs": [
    {
     "name": "stdout",
     "output_type": "stream",
     "text": [
      "4908\n",
      "2590\n",
      "2325\n",
      "3027\n",
      "4739\n"
     ]
    },
    {
     "data": {
      "image/png": "[encoded data removed]",
      "text/plain": [
       "<matplotlib.figure.Figure at 0x7f9ce85c89d0>"
      ]
     },
     "metadata": {},
     "output_type": "display_data"
    },
    {
     "data": {
      "image/png": "[encoded data removed]",
      "text/plain": [
       "<matplotlib.figure.Figure at 0x7f9c97085690>"
      ]
     },
     "metadata": {},
     "output_type": "display_data"
    },
    {
     "data": {
      "image/png": "[encoded data removed]",
      "text/plain": [
       "<matplotlib.figure.Figure at 0x7f9c96f78310>"
      ]
     },
     "metadata": {},
     "output_type": "display_data"
    },
    {
     "data": {
      "image/png": "[encoded data removed]",
      "text/plain": [
       "<matplotlib.figure.Figure at 0x7f9c96a2d0d0>"
      ]
     },
     "metadata": {},
     "output_type": "display_data"
    },
    {
     "data": {
      "image/png": "[encoded data removed]",
      "text/plain": [
       "<matplotlib.figure.Figure at 0x7f9c96928450>"
      ]
     },
     "metadata": {},
     "output_type": "display_data"
    }
   ],
   "source": [
    "for i in order[:5]:\n",
    "    print i\n",
    "    pl.figure()\n",
    "    pl.subplot(121)\n",
    "    pl.imshow(masks[i])\n",
    "    pl.subplot(122)\n",
    "    pl.imshow(new_masks[i])"
   ]
  },
  {
   "cell_type": "code",
   "execution_count": 24,
   "metadata": {
    "collapsed": false
   },
   "outputs": [
    {
     "data": {
      "text/plain": [
       "<matplotlib.colorbar.Colorbar at 0x7f9c96485a50>"
      ]
     },
     "execution_count": 24,
     "metadata": {},
     "output_type": "execute_result"
    },
    {
     "data": {
      "image/png": "[encoded data removed]",
      "text/plain": [
       "<matplotlib.figure.Figure at 0x7f9c9672e150>"
      ]
     },
     "metadata": {},
     "output_type": "display_data"
    }
   ],
   "source": [
    "avg_pred = np.sum(new_masks.squeeze(), axis=0)\n",
    "pl.figure(figsize=(10, 4))\n",
    "pl.subplot(121)\n",
    "pl.imshow(avg_pred)\n",
    "pl.colorbar(shrink=0.5)\n",
    "pl.subplot(122)\n",
    "pl.imshow(avg_pred > 3, cmap=cm.binary)\n",
    "pl.colorbar(shrink=0.5)"
   ]
  },
  {
   "cell_type": "markdown",
   "metadata": {},
   "source": [
    "# Save corrected submission"
   ]
  },
  {
   "cell_type": "code",
   "execution_count": 9,
   "metadata": {
    "collapsed": false
   },
   "outputs": [
    {
     "name": "stdout",
     "output_type": "stream",
     "text": [
      "Saving to ../submissions/submission30.ellipse.csv\n",
      "5500 / 5508\n"
     ]
    }
   ],
   "source": [
    "import sys\n",
    "\n",
    "OUT_SUBMISSION = os.path.splitext(SUBNAME)[0] + '.ellipse.csv'\n",
    "assert SUBNAME != OUT_SUBMISSION\n",
    "print 'Saving to %s' % OUT_SUBMISSION\n",
    "\n",
    "with open(OUT_SUBMISSION, 'w') as f:\n",
    "    f.write('img,pixels\\n')\n",
    "    for i in range(new_masks.shape[0]):\n",
    "        if i % 10 == 0:\n",
    "            print '\\r%d / %d' % (i, new_masks.shape[0]),\n",
    "            sys.stdout.flush()\n",
    "            \n",
    "        runs = runlen_encode(new_masks[i])\n",
    "        runtext = ' '.join(['%d %d' % rr for rr in runs])\n",
    "        f.write('%d,%s\\n' % (i + 1, runtext))"
   ]
  },
  {
   "cell_type": "code",
   "execution_count": null,
   "metadata": {
    "collapsed": true
   },
   "outputs": [],
   "source": []
  }
 ],
 "metadata": {
  "kernelspec": {
   "display_name": "Python 2",
   "language": "python",
   "name": "python2"
  },
  "language_info": {
   "codemirror_mode": {
    "name": "ipython",
    "version": 2
   },
   "file_extension": ".py",
   "mimetype": "text/x-python",
   "name": "python",
   "nbconvert_exporter": "python",
   "pygments_lexer": "ipython2",
   "version": "2.7.6"
  }
 },
 "nbformat": 4,
 "nbformat_minor": 0
}
