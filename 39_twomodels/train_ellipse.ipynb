{
 "cells": [
  {
   "cell_type": "code",
   "execution_count": 3,
   "metadata": {
    "collapsed": false
   },
   "outputs": [
    {
     "name": "stderr",
     "output_type": "stream",
     "text": [
      "/home/julien/kaggle/venv/local/lib/python2.7/site-packages/matplotlib/font_manager.py:273: UserWarning: Matplotlib is building the font cache using fc-list. This may take a moment.\n",
      "  warnings.warn('Matplotlib is building the font cache using fc-list. This may take a moment.')\n",
      "/home/julien/kaggle/venv/local/lib/python2.7/site-packages/ipykernel/pylab/config.py:66: DeprecationWarning: metadata {'config': True} was set from the constructor.  Metadata should be set using the .tag() method, e.g., Int().tag(key1='value1', key2='value2')\n",
      "  inline backend.\"\"\"\n",
      "/home/julien/kaggle/venv/local/lib/python2.7/site-packages/ipykernel/pylab/config.py:71: DeprecationWarning: metadata {'config': True} was set from the constructor.  Metadata should be set using the .tag() method, e.g., Int().tag(key1='value1', key2='value2')\n",
      "  'retina', 'jpeg', 'svg', 'pdf'.\"\"\")\n",
      "/home/julien/kaggle/venv/local/lib/python2.7/site-packages/ipykernel/pylab/config.py:85: DeprecationWarning: metadata {'config': True} was set from the constructor.  Metadata should be set using the .tag() method, e.g., Int().tag(key1='value1', key2='value2')\n",
      "  use `figure_formats` instead)\"\"\")\n",
      "/home/julien/kaggle/venv/local/lib/python2.7/site-packages/ipykernel/pylab/config.py:95: DeprecationWarning: metadata {'config': True} was set from the constructor.  Metadata should be set using the .tag() method, e.g., Int().tag(key1='value1', key2='value2')\n",
      "  \"\"\"\n",
      "/home/julien/kaggle/venv/local/lib/python2.7/site-packages/ipykernel/pylab/config.py:114: DeprecationWarning: metadata {'config': True} was set from the constructor.  Metadata should be set using the .tag() method, e.g., Int().tag(key1='value1', key2='value2')\n",
      "  \"\"\")\n",
      "/home/julien/kaggle/venv/local/lib/python2.7/site-packages/traitlets/traitlets.py:770: DeprecationWarning: A parent of InlineBackend._config_changed has adopted the new @observe(change) API\n",
      "  clsname, change_or_name), DeprecationWarning)\n"
     ]
    }
   ],
   "source": [
    "import sys\n",
    "sys.path.append('../notebooks')\n",
    "import utils\n",
    "import os\n",
    "import numpy as np\n",
    "import glob\n",
    "import cv2\n",
    "import utils\n",
    "import skimage\n",
    "import pylab as pl\n",
    "import shutil\n",
    "import matplotlib.cm as cm\n",
    "from sklearn.cross_validation import train_test_split\n",
    "import warnings\n",
    "warnings.filterwarnings('ignore', category=DeprecationWarning, module='.*/ipykernel/.*')\n",
    "%matplotlib inline"
   ]
  },
  {
   "cell_type": "code",
   "execution_count": 4,
   "metadata": {
    "collapsed": false
   },
   "outputs": [],
   "source": [
    "_d = np.load('../data/data_128_train.npz')\n",
    "X = _d['X']\n",
    "Y = _d['Y']\n",
    "X_pids = _d['pids']\n",
    "\n",
    "# Turn labels into boolean present/missing\n",
    "Y_binary = np.sum(np.sum(Y, axis=2), axis=1) > 0\n",
    "Y_binary = Y_binary.astype(np.float32)"
   ]
  },
  {
   "cell_type": "code",
   "execution_count": 5,
   "metadata": {
    "collapsed": false
   },
   "outputs": [
    {
     "name": "stdout",
     "output_type": "stream",
     "text": [
      "(5635, 128, 128)\n",
      "(5635, 128, 128)\n",
      "float32\n",
      "float32\n"
     ]
    }
   ],
   "source": [
    "print X.shape\n",
    "print Y.shape\n",
    "print X.dtype\n",
    "print Y.dtype"
   ]
  },
  {
   "cell_type": "code",
   "execution_count": 6,
   "metadata": {
    "collapsed": false
   },
   "outputs": [
    {
     "name": "stdout",
     "output_type": "stream",
     "text": [
      "[34 30 32 47 43 39 36 14 35 38  9 45 17 19 11 13  5 22  3 33 16 28 31 21 44\n",
      "  4 27 12 29 41 40 26  2  1 10 15 37 18  8 46 42 23]\n",
      "[25  7 20  6 24]\n"
     ]
    }
   ],
   "source": [
    "if True:\n",
    "    # Split patients in train/test\n",
    "    train_pids, test_pids = train_test_split(np.unique(X_pids), test_size=0.1)\n",
    "    print train_pids\n",
    "    print test_pids\n",
    "    \n",
    "    train_indices = np.flatnonzero(np.in1d(X_pids, train_pids))\n",
    "    test_indices = np.flatnonzero(np.in1d(X_pids, test_pids))\n",
    "    X_train = X[train_indices][:,None,:,:]\n",
    "    Y_train_binary = Y_binary[train_indices][:,None]\n",
    "    Y_train = Y[train_indices][:,None,:,:]\n",
    "    X_test = X[test_indices][:,None,:,:]\n",
    "    Y_test_binary = Y_binary[test_indices][:,None]\n",
    "    Y_test = Y[test_indices][:,None,:,:]\n",
    "else:\n",
    "    nsamples = X.shape[0]\n",
    "\n",
    "    #train_indices, test_indices = train_test_split(np.arange(nsamples), test_size=0.1)\n",
    "    train_indices, test_indices = train_test_split(np.arange(nsamples), test_size=0.1)\n",
    "    X_train = X[train_indices][:,None,:,:]\n",
    "    Y_train_binary = Y_binary[train_indices][:,None]\n",
    "    Y_train = Y[train_indices][:,None,:,:]\n",
    "    X_test = X[test_indices][:,None,:,:]\n",
    "    Y_test_binary = Y_binary[test_indices][:,None]\n",
    "    Y_test = Y[test_indices][:,None,:,:]"
   ]
  },
  {
   "cell_type": "code",
   "execution_count": 7,
   "metadata": {
    "collapsed": false
   },
   "outputs": [],
   "source": [
    "if False:\n",
    "    # Only select images with masks\n",
    "    train_mask = Y_train_binary > 0.5\n",
    "    X_train = X_train[train_mask][:,None,:,:]\n",
    "    Y_train = Y_train[train_mask][:,None,:,:]\n",
    "    test_mask = Y_test_binary > 0.5\n",
    "    X_test = X_test[test_mask][:,None,:,:]\n",
    "    Y_test = Y_test[test_mask][:,None,:,:]"
   ]
  },
  {
   "cell_type": "code",
   "execution_count": 8,
   "metadata": {
    "collapsed": false
   },
   "outputs": [
    {
     "name": "stdout",
     "output_type": "stream",
     "text": [
      "5030 / 5036\n"
     ]
    }
   ],
   "source": [
    "import skimage.transform as sktransf\n",
    "\n",
    "def rand_float(rng):\n",
    "    return rng[0] + np.random.random() * (rng[1] - rng[0])\n",
    "\n",
    "def generate_image(X_img, Y_img, angle_range=None, zoom_range=None, shear_range=None, horiz_shift_range=None,\n",
    "                   vert_shift_range=None):\n",
    "    \"\"\"\n",
    "    Randomly shift an image by resizing and then random croping\n",
    "    the resized image\n",
    "    \"\"\"\n",
    "    if angle_range is None:\n",
    "        angle_range = (-5, 5)\n",
    "    if zoom_range is None:\n",
    "        zoom_range = (0.8, 1.2)\n",
    "    if shear_range is None:\n",
    "        shear_range = (-5, 5) # shear angle in degrees\n",
    "    if horiz_shift_range is None:\n",
    "        horiz_shift_range = (-5, 5)\n",
    "    if vert_shift_range is None:\n",
    "        vert_shift_range = (-5, 5)\n",
    "    inshape = X_img.shape\n",
    "    \n",
    "    X2 = X_img.copy()\n",
    "    Y2 = Y_img.copy()\n",
    "    \n",
    "    # -- random rotation\n",
    "    angle = np.deg2rad(rand_float(angle_range))\n",
    "    zoom = rand_float(zoom_range)\n",
    "    shear = np.deg2rad(rand_float(shear_range))\n",
    "    horiz_shift = rand_float(horiz_shift_range)\n",
    "    vert_shift = rand_float(vert_shift_range)\n",
    "    \n",
    "    tform = sktransf.AffineTransform(\n",
    "        scale=(zoom, zoom),\n",
    "        rotation=angle,\n",
    "        shear=shear,\n",
    "        translation=(horiz_shift, vert_shift)\n",
    "    )\n",
    "    X2 = sktransf.warp(X2, tform, order=5, mode='edge')\n",
    "    Y2 = sktransf.warp(Y2, tform, order=1)\n",
    "\n",
    "    # gaussian noise\n",
    "    #noise_scale = rand_float((0, 0.1))\n",
    "    #X2 += np.random.normal(scale=noise_scale, size=X2.shape)\n",
    "    Y2 = Y2 > 0.5\n",
    "    return X2[None,:,:].astype(np.float32), Y2[None,:,:].astype(np.float32)\n",
    "\n",
    "X_train_augmented = []\n",
    "Y_train_augmented = []\n",
    "for i in range(X_train.shape[0]):\n",
    "    if i % 10 == 0:\n",
    "        print '\\r%d / %d' % (i, X_train.shape[0]),\n",
    "        sys.stdout.flush()\n",
    "    X_train_augmented.append(X_train[i])\n",
    "    Y_train_augmented.append(Y_train[i])\n",
    "    if False:\n",
    "        for j in range(2):\n",
    "            X2, Y2 = generate_image(X_train[i].squeeze(), Y_train[i].squeeze())\n",
    "            X_train_augmented.append(X2)\n",
    "            Y_train_augmented.append(Y2)"
   ]
  },
  {
   "cell_type": "code",
   "execution_count": 9,
   "metadata": {
    "collapsed": false
   },
   "outputs": [
    {
     "name": "stdout",
     "output_type": "stream",
     "text": [
      "(5036, 1, 128, 128)\n",
      "(5036, 1, 128, 128)\n",
      "(599, 1, 128, 128)\n",
      "0.0 1.0\n"
     ]
    }
   ],
   "source": [
    "X_train = np.array(X_train_augmented, dtype=np.float32)\n",
    "Y_train = np.array(Y_train_augmented, dtype=np.float32)\n",
    "\n",
    "Y_train_binary = np.sum(np.sum(Y_train, axis=2), axis=2) > 0\n",
    "Y_train_binary = Y_train_binary.astype(np.float32)\n",
    "\n",
    "print X_train.shape\n",
    "print Y_train.shape\n",
    "print X_test.shape\n",
    "print X_train.min(), X_train.max()"
   ]
  },
  {
   "cell_type": "code",
   "execution_count": 10,
   "metadata": {
    "collapsed": false
   },
   "outputs": [],
   "source": [
    "# Draw elipsis on image\n",
    "def find_ellipse(mask, draw=True):\n",
    "    mask = skimage.img_as_ubyte(mask.squeeze())\n",
    "    ret, thresh = cv2.threshold(mask, 127, 255, 0)\n",
    "    contours, hierarchy = cv2.findContours(thresh, 1, 2)\n",
    "    has_ellipse = len(contours) > 0\n",
    "    ellipse = None\n",
    "    if has_ellipse:\n",
    "        if len(contours) > 1:\n",
    "            # select largest contour\n",
    "            areas = [cv2.contourArea(cnt) for cnt in contours]\n",
    "            cnt = contours[np.argmax(areas)]\n",
    "        else:\n",
    "            cnt = contours[0]\n",
    "        ellipse = cv2.fitEllipse(cnt)\n",
    "        \n",
    "    return has_ellipse, ellipse\n",
    "\n",
    "def draw_ellipse(ellipse):\n",
    "    img = np.zeros((128, 128, 3), dtype=np.uint8)\n",
    "    cx, cy = ellipse[0]\n",
    "    ax, ay = ellipse[1]\n",
    "    angle = ellipse[2]\n",
    "    # need to make all parameters int otherwise fallback on the ellipse(box) one\n",
    "    cv2.ellipse(img, (int(cx), int(cy)), (int(ax/2), int(ay/2)), int(angle), 0, 360, (0, 255, 0), 1)\n",
    "    return img"
   ]
  },
  {
   "cell_type": "code",
   "execution_count": 11,
   "metadata": {
    "collapsed": false
   },
   "outputs": [
    {
     "name": "stderr",
     "output_type": "stream",
     "text": [
      "/home/julien/kaggle/venv/local/lib/python2.7/site-packages/skimage/util/dtype.py:110: UserWarning: Possible precision loss when converting from float32 to uint8\n",
      "  \"%s to %s\" % (dtypeobj_in, dtypeobj))\n"
     ]
    },
    {
     "data": {
      "text/plain": [
       "<matplotlib.image.AxesImage at 0x7fa16f88c2d0>"
      ]
     },
     "execution_count": 11,
     "metadata": {},
     "output_type": "execute_result"
    },
    {
     "data": {
      "image/png": "[encoded data removed]",
      "text/plain": [
       "<matplotlib.figure.Figure at 0x7fa16f88c110>"
      ]
     },
     "metadata": {},
     "output_type": "display_data"
    }
   ],
   "source": [
    "i = 2\n",
    "has_ellipse, ellipse = find_ellipse(Y_train[i].squeeze())\n",
    "\n",
    "overlay = draw_ellipse(ellipse)\n",
    "pl.imshow(Y_train[i].squeeze())\n",
    "pl.imshow(overlay, alpha=0.5)"
   ]
  },
  {
   "cell_type": "code",
   "execution_count": 12,
   "metadata": {
    "collapsed": false
   },
   "outputs": [
    {
     "name": "stdout",
     "output_type": "stream",
     "text": [
      "(2040, 1, 128, 128)\n",
      "(283, 1, 128, 128)\n"
     ]
    }
   ],
   "source": [
    "X_train_with_masks = X_train[Y_train_binary > 0][:,None,:,:]\n",
    "Y_train_with_masks = Y_train[Y_train_binary > 0]\n",
    "X_test_with_masks = X_test[Y_test_binary > 0][:,None,:,:]\n",
    "Y_test_with_masks = Y_test[Y_test_binary > 0]\n",
    "print X_train_with_masks.shape\n",
    "print X_test_with_masks.shape"
   ]
  },
  {
   "cell_type": "code",
   "execution_count": 13,
   "metadata": {
    "collapsed": false
   },
   "outputs": [
    {
     "name": "stdout",
     "output_type": "stream",
     "text": [
      "(2040, 5)\n"
     ]
    }
   ],
   "source": [
    "def build_ellipse_ds(Y):\n",
    "    Y_ellipse = []\n",
    "    for i in range(Y.shape[0]):\n",
    "        has_ellipse, ellipse = find_ellipse(Y[i].squeeze())\n",
    "        assert has_ellipse\n",
    "        cx, cy = ellipse[0]\n",
    "        ax, ay = ellipse[1]\n",
    "        angle = ellipse[2]\n",
    "        # Make cx, cy and ax, ay percentage of image size from center (so it is in -1, 1)\n",
    "        Y_ellipse.append((\n",
    "            (cx - 64) / 64.0,\n",
    "            (cy - 64) / 64.0,\n",
    "            # ax will be a difference to the base lenght of 16\n",
    "            (ax - 16) / 32,\n",
    "            (ay - 16) / 32,\n",
    "            (angle - 180) / 180.))\n",
    "    return np.array(Y_ellipse)\n",
    "\n",
    "Y_train_ellipses = build_ellipse_ds(Y_train_with_masks)\n",
    "Y_test_ellipses = build_ellipse_ds(Y_test_with_masks)\n",
    "\n",
    "print Y_train_ellipses.shape"
   ]
  },
  {
   "cell_type": "markdown",
   "metadata": {},
   "source": [
    "# Keras model to predict mask presence"
   ]
  },
  {
   "cell_type": "code",
   "execution_count": 14,
   "metadata": {
    "collapsed": false
   },
   "outputs": [
    {
     "name": "stdout",
     "output_type": "stream",
     "text": [
      "(1, 128, 128)\n"
     ]
    }
   ],
   "source": [
    "# channels first in keras\n",
    "input_shape = X_train[0].shape\n",
    "print input_shape"
   ]
  },
  {
   "cell_type": "code",
   "execution_count": 15,
   "metadata": {
    "collapsed": false
   },
   "outputs": [
    {
     "name": "stderr",
     "output_type": "stream",
     "text": [
      "Using Theano backend.\n"
     ]
    },
    {
     "name": "stdout",
     "output_type": "stream",
     "text": [
      "gpu0\n"
     ]
    },
    {
     "name": "stderr",
     "output_type": "stream",
     "text": [
      "Using gpu device 0: GeForce GTX 960 (CNMeM is disabled, cuDNN 4007)\n"
     ]
    }
   ],
   "source": [
    "os.environ['KERAS_BACKEND'] = 'theano'\n",
    "# TODO: Use float16 ?\n",
    "os.environ['THEANO_FLAGS'] = 'mode=FAST_RUN,device=gpu0,floatX=float32'\n",
    "import keras\n",
    "from keras.layers import Input, Dense, Dropout, Activation, Flatten, merge, RepeatVector, Permute, Reshape\n",
    "from keras.layers import Convolution2D, MaxPooling2D, UpSampling2D, MaxoutDense\n",
    "from keras.layers import LeakyReLU, BatchNormalization\n",
    "from keras.models import Model\n",
    "from keras.optimizers import SGD, RMSprop\n",
    "from keras.utils.layer_utils import print_summary\n",
    "from keras.models import model_from_json\n",
    "from keras.callbacks import ModelCheckpoint\n",
    "import keras.backend as K\n",
    "import theano\n",
    "print theano.config.device"
   ]
  },
  {
   "cell_type": "code",
   "execution_count": 16,
   "metadata": {
    "collapsed": true
   },
   "outputs": [],
   "source": [
    "from keras.layers import Layer, InputSpec\n",
    "import keras.initializations\n",
    "import keras.backend as K\n",
    "\n",
    "class Maxout2D(Layer):\n",
    "    def __init__(self, output_dim, cardinality, init='glorot_uniform', **kwargs):\n",
    "        super(Maxout2D, self).__init__(**kwargs)\n",
    "        # the k of the maxout paper\n",
    "        self.cardinality = cardinality\n",
    "        # the m of the maxout paper\n",
    "        self.output_dim = output_dim\n",
    "        self.init = keras.initializations.get(init)\n",
    "    \n",
    "    def build(self, input_shape):\n",
    "        self.input_dim = input_shape[1]\n",
    "        self.input_spec = [InputSpec(dtype=K.floatx(),\n",
    "                                     shape=(None, input_shape[1], input_shape[2], input_shape[3]))]\n",
    "        self.W = self.init((self.input_dim, self.output_dim, self.cardinality),\n",
    "                           name='{}_W'.format(self.name))\n",
    "        self.b = K.zeros((self.output_dim, self.cardinality))\n",
    "        self.trainable_weights = [self.W, self.b]\n",
    "              \n",
    "    def call(self, x, mask=None):\n",
    "        input_shape = self.input_spec[0].shape\n",
    "        # flatten the spatial dimensions\n",
    "        flat_x = K.reshape(x, (-1, input_shape[1], input_shape[2] * input_shape[3]))\n",
    "        output = K.dot(\n",
    "            K.permute_dimensions(flat_x, (0, 2, 1)),\n",
    "            K.permute_dimensions(self.W, (1, 0, 2))\n",
    "        )\n",
    "        output += K.reshape(self.b, (1, 1, self.output_dim, self.cardinality))\n",
    "        output = K.max(output, axis=3)\n",
    "        output = output.transpose(0, 2, 1)\n",
    "        output = K.reshape(output, (-1, self.output_dim, input_shape[2], input_shape[3]))\n",
    "        return output\n",
    "    \n",
    "    def get_output_shape_for(self, input_shape):\n",
    "        return (input_shape[0], self.output_dim, input_shape[2], input_shape[3])\n",
    "    \n",
    "    def get_config(self):\n",
    "        config = {\n",
    "            'output_dim': self.output_dim,\n",
    "            'cardinality': self.cardinality\n",
    "        }\n",
    "        base_config = super(Maxout2D, self).get_config()\n",
    "        return dict(list(base_config.items()) + list(config.items()))"
   ]
  },
  {
   "cell_type": "code",
   "execution_count": 17,
   "metadata": {
    "collapsed": false
   },
   "outputs": [
    {
     "name": "stdout",
     "output_type": "stream",
     "text": [
      "____________________________________________________________________________________________________\n",
      "Layer (type)                       Output Shape        Param #     Connected to                     \n",
      "====================================================================================================\n",
      "input_img (InputLayer)             (None, 1, 128, 128) 0                                            \n",
      "____________________________________________________________________________________________________\n",
      "convolution2d_1 (Convolution2D)    (None, 32, 128, 128)320         input_img[0][0]                  \n",
      "____________________________________________________________________________________________________\n",
      "convolution2d_2 (Convolution2D)    (None, 16, 128, 128)4624        convolution2d_1[0][0]            \n",
      "____________________________________________________________________________________________________\n",
      "maxout2d_1 (Maxout2D)              (None, 16, 128, 128)544         convolution2d_2[0][0]            \n",
      "____________________________________________________________________________________________________\n",
      "pool1 (MaxPooling2D)               (None, 16, 64, 64)  0           maxout2d_1[0][0]                 \n",
      "____________________________________________________________________________________________________\n",
      "dropout_2 (Dropout)                (None, 16, 64, 64)  0           pool1[0][0]                      \n",
      "____________________________________________________________________________________________________\n",
      "convolution2d_3 (Convolution2D)    (None, 32, 64, 64)  4640        dropout_2[0][0]                  \n",
      "____________________________________________________________________________________________________\n",
      "convolution2d_4 (Convolution2D)    (None, 16, 64, 64)  4624        convolution2d_3[0][0]            \n",
      "____________________________________________________________________________________________________\n",
      "maxout2d_2 (Maxout2D)              (None, 16, 64, 64)  544         convolution2d_4[0][0]            \n",
      "____________________________________________________________________________________________________\n",
      "pool2 (MaxPooling2D)               (None, 16, 32, 32)  0           maxout2d_2[0][0]                 \n",
      "____________________________________________________________________________________________________\n",
      "dropout_3 (Dropout)                (None, 16, 32, 32)  0           pool2[0][0]                      \n",
      "____________________________________________________________________________________________________\n",
      "convolution2d_5 (Convolution2D)    (None, 32, 32, 32)  4640        dropout_3[0][0]                  \n",
      "____________________________________________________________________________________________________\n",
      "convolution2d_6 (Convolution2D)    (None, 16, 32, 32)  4624        convolution2d_5[0][0]            \n",
      "____________________________________________________________________________________________________\n",
      "maxout2d_3 (Maxout2D)              (None, 16, 32, 32)  544         convolution2d_6[0][0]            \n",
      "____________________________________________________________________________________________________\n",
      "pool3 (MaxPooling2D)               (None, 16, 16, 16)  0           maxout2d_3[0][0]                 \n",
      "____________________________________________________________________________________________________\n",
      "dropout_4 (Dropout)                (None, 16, 16, 16)  0           pool3[0][0]                      \n",
      "____________________________________________________________________________________________________\n",
      "convolution2d_7 (Convolution2D)    (None, 16, 16, 16)  2320        dropout_4[0][0]                  \n",
      "____________________________________________________________________________________________________\n",
      "convolution2d_8 (Convolution2D)    (None, 16, 16, 16)  2320        convolution2d_7[0][0]            \n",
      "____________________________________________________________________________________________________\n",
      "maxout2d_4 (Maxout2D)              (None, 16, 16, 16)  544         convolution2d_8[0][0]            \n",
      "____________________________________________________________________________________________________\n",
      "pool4 (MaxPooling2D)               (None, 16, 8, 8)    0           maxout2d_4[0][0]                 \n",
      "____________________________________________________________________________________________________\n",
      "dropout_5 (Dropout)                (None, 16, 8, 8)    0           pool4[0][0]                      \n",
      "____________________________________________________________________________________________________\n",
      "convolution2d_9 (Convolution2D)    (None, 16, 8, 8)    2320        dropout_5[0][0]                  \n",
      "____________________________________________________________________________________________________\n",
      "convolution2d_10 (Convolution2D)   (None, 16, 8, 8)    2320        convolution2d_9[0][0]            \n",
      "____________________________________________________________________________________________________\n",
      "maxout2d_5 (Maxout2D)              (None, 16, 8, 8)    544         convolution2d_10[0][0]           \n",
      "____________________________________________________________________________________________________\n",
      "pool5 (MaxPooling2D)               (None, 16, 4, 4)    0           maxout2d_5[0][0]                 \n",
      "____________________________________________________________________________________________________\n",
      "flatten_1 (Flatten)                (None, 256)         0           pool5[0][0]                      \n",
      "____________________________________________________________________________________________________\n",
      "dense_1 (Dense)                    (None, 128)         32896       flatten_1[0][0]                  \n",
      "____________________________________________________________________________________________________\n",
      "leakyrelu_1 (LeakyReLU)            (None, 128)         0           dense_1[0][0]                    \n",
      "____________________________________________________________________________________________________\n",
      "dense_2 (Dense)                    (None, 128)         16512       leakyrelu_1[0][0]                \n",
      "____________________________________________________________________________________________________\n",
      "leakyrelu_2 (LeakyReLU)            (None, 128)         0           dense_2[0][0]                    \n",
      "____________________________________________________________________________________________________\n",
      "outellipse (Dense)                 (None, 5)           645         leakyrelu_2[0][0]                \n",
      "====================================================================================================\n",
      "Total params: 85525\n",
      "____________________________________________________________________________________________________\n"
     ]
    }
   ],
   "source": [
    "input_img = x = Input(shape=input_shape, name='input_img')\n",
    "x = Dropout(0.25)(x)\n",
    "x = Convolution2D(32, 3, 3, border_mode='same')(input_img)\n",
    "x = Convolution2D(16, 3, 3, border_mode='same')(x)\n",
    "x = Maxout2D(16, 2)(x)\n",
    "pool1 = x = MaxPooling2D((2, 2), name='pool1')(x)\n",
    "\n",
    "x = Dropout(0.25)(x)\n",
    "x = Convolution2D(32, 3, 3, border_mode='same')(x)\n",
    "x = Convolution2D(16, 3, 3, border_mode='same')(x)\n",
    "x = Maxout2D(16, 2)(x)\n",
    "pool2 = x = MaxPooling2D((2, 2), name='pool2')(x)\n",
    "\n",
    "x = Dropout(0.25)(x)\n",
    "x = Convolution2D(32, 3, 3, border_mode='same')(x)\n",
    "x = Convolution2D(16, 3, 3, border_mode='same')(x)\n",
    "x = Maxout2D(16, 2)(x)\n",
    "pool3 = x = MaxPooling2D((2, 2), name='pool3')(x)\n",
    "\n",
    "x = Dropout(0.25)(x)\n",
    "x = Convolution2D(16, 3, 3, border_mode='same')(x)\n",
    "x = Convolution2D(16, 3, 3, border_mode='same')(x)\n",
    "x = Maxout2D(16, 2)(x)\n",
    "pool4 = x = MaxPooling2D((2, 2), name='pool4')(x)\n",
    "\n",
    "x = Dropout(0.25)(x)\n",
    "x = Convolution2D(16, 3, 3, border_mode='same')(x)\n",
    "x = Convolution2D(16, 3, 3, border_mode='same')(x)\n",
    "x = Maxout2D(16, 2)(x)\n",
    "pool5 = x = MaxPooling2D((2, 2), name='pool5')(x)\n",
    "\n",
    "x = Flatten()(pool5)\n",
    "x = Dense(128)(x)\n",
    "x = LeakyReLU(0.3)(x)\n",
    "x = Dense(128)(x)\n",
    "x = LeakyReLU(0.3)(x)\n",
    "outellipse = Dense(5, activation='tanh', name='outellipse')(x)\n",
    "\n",
    "model = Model(\n",
    "    input=input_img,\n",
    "    output=outellipse\n",
    ")\n",
    "\n",
    "#sgd = SGD(lr=0.01, decay=1e-6, momentum=0.9, nesterov=True)\n",
    "#model.compile(optimizer=sgd, loss='binary_crossentropy')\n",
    "#rmsprop = RMSprop(lr=0.001, rho=0.9, epsilon=1e-08)\n",
    "#model.compile(optimizer=rmsprop, loss='binary_crossentropy')\n",
    "model.compile(optimizer='adam', loss='mse')\n",
    "\n",
    "print_summary(model.layers)"
   ]
  },
  {
   "cell_type": "code",
   "execution_count": 18,
   "metadata": {
    "collapsed": false
   },
   "outputs": [
    {
     "name": "stdout",
     "output_type": "stream",
     "text": [
      "Train on 2040 samples, validate on 283 samples\n",
      "Epoch 1/60\n",
      "2040/2040 [==============================] - 23s - loss: 0.4961 - val_loss: 0.0647\n",
      "Epoch 2/60\n",
      "2040/2040 [==============================] - 23s - loss: 0.0849 - val_loss: 0.1345\n",
      "Epoch 3/60\n",
      "2040/2040 [==============================] - 23s - loss: 0.0519 - val_loss: 0.1218\n",
      "Epoch 4/60\n",
      "2040/2040 [==============================] - 23s - loss: 0.0485 - val_loss: 0.0914\n",
      "Epoch 5/60\n",
      "2040/2040 [==============================] - 23s - loss: 0.0474 - val_loss: 0.0670\n",
      "Epoch 6/60\n",
      "2040/2040 [==============================] - 23s - loss: 0.0471 - val_loss: 0.0750\n",
      "Epoch 7/60\n",
      "2040/2040 [==============================] - 23s - loss: 0.0472 - val_loss: 0.0539\n",
      "Epoch 8/60\n",
      "2040/2040 [==============================] - 23s - loss: 0.0466 - val_loss: 0.0481\n",
      "Epoch 9/60\n",
      "2040/2040 [==============================] - 23s - loss: 0.0454 - val_loss: 0.0480\n",
      "Epoch 10/60\n",
      "2040/2040 [==============================] - 23s - loss: 0.0450 - val_loss: 0.0428\n",
      "Epoch 11/60\n",
      "2040/2040 [==============================] - 23s - loss: 0.0440 - val_loss: 0.0432\n",
      "Epoch 12/60\n",
      "2040/2040 [==============================] - 23s - loss: 0.0423 - val_loss: 0.0460\n",
      "Epoch 13/60\n",
      "2040/2040 [==============================] - 23s - loss: 0.0414 - val_loss: 0.0438\n",
      "Epoch 14/60\n",
      "2040/2040 [==============================] - 23s - loss: 0.0410 - val_loss: 0.0430\n",
      "Epoch 15/60\n",
      "2040/2040 [==============================] - 23s - loss: 0.0406 - val_loss: 0.0493\n",
      "Epoch 16/60\n",
      " 640/2040 [========>.....................] - ETA: 15s - loss: 0.0392"
     ]
    },
    {
     "ename": "KeyboardInterrupt",
     "evalue": "",
     "output_type": "error",
     "traceback": [
      "\u001b[0;31m---------------------------------------------------------------------------\u001b[0m",
      "\u001b[0;31mKeyboardInterrupt\u001b[0m                         Traceback (most recent call last)",
      "\u001b[0;32m<ipython-input-18-78fbaa58113e>\u001b[0m in \u001b[0;36m<module>\u001b[0;34m()\u001b[0m\n\u001b[1;32m     11\u001b[0m         \u001b[0mnb_epoch\u001b[0m\u001b[0;34m=\u001b[0m\u001b[0;36m60\u001b[0m\u001b[0;34m,\u001b[0m\u001b[0;31m# 40 + 10 + 10 + 5 + 5\u001b[0m\u001b[0;34m\u001b[0m\u001b[0m\n\u001b[1;32m     12\u001b[0m         \u001b[0mverbose\u001b[0m\u001b[0;34m=\u001b[0m\u001b[0;36m1\u001b[0m\u001b[0;34m,\u001b[0m\u001b[0;34m\u001b[0m\u001b[0m\n\u001b[0;32m---> 13\u001b[0;31m         \u001b[0mshuffle\u001b[0m\u001b[0;34m=\u001b[0m\u001b[0mTrue\u001b[0m\u001b[0;34m,\u001b[0m\u001b[0;34m\u001b[0m\u001b[0m\n\u001b[0m\u001b[1;32m     14\u001b[0m         \u001b[0;31m#callbacks=[model_checkpoint]\u001b[0m\u001b[0;34m\u001b[0m\u001b[0;34m\u001b[0m\u001b[0m\n\u001b[1;32m     15\u001b[0m     )\n",
      "\u001b[0;32m/home/julien/kaggle/venv/local/lib/python2.7/site-packages/keras/engine/training.pyc\u001b[0m in \u001b[0;36mfit\u001b[0;34m(self, x, y, batch_size, nb_epoch, verbose, callbacks, validation_split, validation_data, shuffle, class_weight, sample_weight)\u001b[0m\n\u001b[1;32m   1050\u001b[0m                               \u001b[0mverbose\u001b[0m\u001b[0;34m=\u001b[0m\u001b[0mverbose\u001b[0m\u001b[0;34m,\u001b[0m \u001b[0mcallbacks\u001b[0m\u001b[0;34m=\u001b[0m\u001b[0mcallbacks\u001b[0m\u001b[0;34m,\u001b[0m\u001b[0;34m\u001b[0m\u001b[0m\n\u001b[1;32m   1051\u001b[0m                               \u001b[0mval_f\u001b[0m\u001b[0;34m=\u001b[0m\u001b[0mval_f\u001b[0m\u001b[0;34m,\u001b[0m \u001b[0mval_ins\u001b[0m\u001b[0;34m=\u001b[0m\u001b[0mval_ins\u001b[0m\u001b[0;34m,\u001b[0m \u001b[0mshuffle\u001b[0m\u001b[0;34m=\u001b[0m\u001b[0mshuffle\u001b[0m\u001b[0;34m,\u001b[0m\u001b[0;34m\u001b[0m\u001b[0m\n\u001b[0;32m-> 1052\u001b[0;31m                               callback_metrics=callback_metrics)\n\u001b[0m\u001b[1;32m   1053\u001b[0m \u001b[0;34m\u001b[0m\u001b[0m\n\u001b[1;32m   1054\u001b[0m     \u001b[0;32mdef\u001b[0m \u001b[0mevaluate\u001b[0m\u001b[0;34m(\u001b[0m\u001b[0mself\u001b[0m\u001b[0;34m,\u001b[0m \u001b[0mx\u001b[0m\u001b[0;34m,\u001b[0m \u001b[0my\u001b[0m\u001b[0;34m,\u001b[0m \u001b[0mbatch_size\u001b[0m\u001b[0;34m=\u001b[0m\u001b[0;36m32\u001b[0m\u001b[0;34m,\u001b[0m \u001b[0mverbose\u001b[0m\u001b[0;34m=\u001b[0m\u001b[0;36m1\u001b[0m\u001b[0;34m,\u001b[0m \u001b[0msample_weight\u001b[0m\u001b[0;34m=\u001b[0m\u001b[0mNone\u001b[0m\u001b[0;34m)\u001b[0m\u001b[0;34m:\u001b[0m\u001b[0;34m\u001b[0m\u001b[0m\n",
      "\u001b[0;32m/home/julien/kaggle/venv/local/lib/python2.7/site-packages/keras/engine/training.pyc\u001b[0m in \u001b[0;36m_fit_loop\u001b[0;34m(self, f, ins, out_labels, batch_size, nb_epoch, verbose, callbacks, val_f, val_ins, shuffle, callback_metrics)\u001b[0m\n\u001b[1;32m    788\u001b[0m                 \u001b[0mbatch_logs\u001b[0m\u001b[0;34m[\u001b[0m\u001b[0;34m'size'\u001b[0m\u001b[0;34m]\u001b[0m \u001b[0;34m=\u001b[0m \u001b[0mlen\u001b[0m\u001b[0;34m(\u001b[0m\u001b[0mbatch_ids\u001b[0m\u001b[0;34m)\u001b[0m\u001b[0;34m\u001b[0m\u001b[0m\n\u001b[1;32m    789\u001b[0m                 \u001b[0mcallbacks\u001b[0m\u001b[0;34m.\u001b[0m\u001b[0mon_batch_begin\u001b[0m\u001b[0;34m(\u001b[0m\u001b[0mbatch_index\u001b[0m\u001b[0;34m,\u001b[0m \u001b[0mbatch_logs\u001b[0m\u001b[0;34m)\u001b[0m\u001b[0;34m\u001b[0m\u001b[0m\n\u001b[0;32m--> 790\u001b[0;31m                 \u001b[0mouts\u001b[0m \u001b[0;34m=\u001b[0m \u001b[0mf\u001b[0m\u001b[0;34m(\u001b[0m\u001b[0mins_batch\u001b[0m\u001b[0;34m)\u001b[0m\u001b[0;34m\u001b[0m\u001b[0m\n\u001b[0m\u001b[1;32m    791\u001b[0m                 \u001b[0;32mif\u001b[0m \u001b[0mtype\u001b[0m\u001b[0;34m(\u001b[0m\u001b[0mouts\u001b[0m\u001b[0;34m)\u001b[0m \u001b[0;34m!=\u001b[0m \u001b[0mlist\u001b[0m\u001b[0;34m:\u001b[0m\u001b[0;34m\u001b[0m\u001b[0m\n\u001b[1;32m    792\u001b[0m                     \u001b[0mouts\u001b[0m \u001b[0;34m=\u001b[0m \u001b[0;34m[\u001b[0m\u001b[0mouts\u001b[0m\u001b[0;34m]\u001b[0m\u001b[0;34m\u001b[0m\u001b[0m\n",
      "\u001b[0;32m/home/julien/kaggle/venv/local/lib/python2.7/site-packages/keras/backend/theano_backend.pyc\u001b[0m in \u001b[0;36m__call__\u001b[0;34m(self, inputs)\u001b[0m\n\u001b[1;32m    516\u001b[0m     \u001b[0;32mdef\u001b[0m \u001b[0m__call__\u001b[0m\u001b[0;34m(\u001b[0m\u001b[0mself\u001b[0m\u001b[0;34m,\u001b[0m \u001b[0minputs\u001b[0m\u001b[0;34m)\u001b[0m\u001b[0;34m:\u001b[0m\u001b[0;34m\u001b[0m\u001b[0m\n\u001b[1;32m    517\u001b[0m         \u001b[0;32massert\u001b[0m \u001b[0mtype\u001b[0m\u001b[0;34m(\u001b[0m\u001b[0minputs\u001b[0m\u001b[0;34m)\u001b[0m \u001b[0;32min\u001b[0m \u001b[0;34m{\u001b[0m\u001b[0mlist\u001b[0m\u001b[0;34m,\u001b[0m \u001b[0mtuple\u001b[0m\u001b[0;34m}\u001b[0m\u001b[0;34m\u001b[0m\u001b[0m\n\u001b[0;32m--> 518\u001b[0;31m         \u001b[0;32mreturn\u001b[0m \u001b[0mself\u001b[0m\u001b[0;34m.\u001b[0m\u001b[0mfunction\u001b[0m\u001b[0;34m(\u001b[0m\u001b[0;34m*\u001b[0m\u001b[0minputs\u001b[0m\u001b[0;34m)\u001b[0m\u001b[0;34m\u001b[0m\u001b[0m\n\u001b[0m\u001b[1;32m    519\u001b[0m \u001b[0;34m\u001b[0m\u001b[0m\n\u001b[1;32m    520\u001b[0m \u001b[0;34m\u001b[0m\u001b[0m\n",
      "\u001b[0;32m/home/julien/kaggle/venv/local/lib/python2.7/site-packages/theano/compile/function_module.pyc\u001b[0m in \u001b[0;36m__call__\u001b[0;34m(self, *args, **kwargs)\u001b[0m\n\u001b[1;32m    857\u001b[0m         \u001b[0mt0_fn\u001b[0m \u001b[0;34m=\u001b[0m \u001b[0mtime\u001b[0m\u001b[0;34m.\u001b[0m\u001b[0mtime\u001b[0m\u001b[0;34m(\u001b[0m\u001b[0;34m)\u001b[0m\u001b[0;34m\u001b[0m\u001b[0m\n\u001b[1;32m    858\u001b[0m         \u001b[0;32mtry\u001b[0m\u001b[0;34m:\u001b[0m\u001b[0;34m\u001b[0m\u001b[0m\n\u001b[0;32m--> 859\u001b[0;31m             \u001b[0moutputs\u001b[0m \u001b[0;34m=\u001b[0m \u001b[0mself\u001b[0m\u001b[0;34m.\u001b[0m\u001b[0mfn\u001b[0m\u001b[0;34m(\u001b[0m\u001b[0;34m)\u001b[0m\u001b[0;34m\u001b[0m\u001b[0m\n\u001b[0m\u001b[1;32m    860\u001b[0m         \u001b[0;32mexcept\u001b[0m \u001b[0mException\u001b[0m\u001b[0;34m:\u001b[0m\u001b[0;34m\u001b[0m\u001b[0m\n\u001b[1;32m    861\u001b[0m             \u001b[0;32mif\u001b[0m \u001b[0mhasattr\u001b[0m\u001b[0;34m(\u001b[0m\u001b[0mself\u001b[0m\u001b[0;34m.\u001b[0m\u001b[0mfn\u001b[0m\u001b[0;34m,\u001b[0m \u001b[0;34m'position_of_error'\u001b[0m\u001b[0;34m)\u001b[0m\u001b[0;34m:\u001b[0m\u001b[0;34m\u001b[0m\u001b[0m\n",
      "\u001b[0;31mKeyboardInterrupt\u001b[0m: "
     ]
    }
   ],
   "source": [
    "if True:\n",
    "    json_string = model.to_json()\n",
    "    open('architecture.json', 'w').write(json_string)\n",
    "    \n",
    "    model_checkpoint = ModelCheckpoint('weights.hdf5', monitor='val_loss', save_best_only=True, verbose=True)\n",
    "    \n",
    "    history = model.fit(\n",
    "        X_train_with_masks, Y_train_ellipses,\n",
    "        batch_size=64,\n",
    "        validation_data=(X_test_with_masks, Y_test_ellipses),\n",
    "        nb_epoch=60,# 40 + 10 + 10 + 5 + 5\n",
    "        verbose=1,\n",
    "        shuffle=True,\n",
    "        #callbacks=[model_checkpoint]\n",
    "    )\n",
    "    \n",
    "    pl.figure()\n",
    "    pl.plot(history.history['acc'], label='train acc')\n",
    "    pl.plot(history.history['val_acc'], c='g', label='val acc')\n",
    "    pl.legend()\n",
    "else:\n",
    "    model_dir = '.'\n",
    "    model = model_from_json(\n",
    "        open(os.path.join(model_dir, 'architecture.json')).read(),\n",
    "                custom_objects={'Maxout2D' : Maxout2D}\n",
    "    )\n",
    "    model.load_weights(os.path.join(model_dir, 'weights.hdf5'))\n",
    "    model.compile(optimizer='adam', loss='binary_crossentropy',\n",
    "                  loss_weights=[1., 0.01])\n",
    "    \n",
    "    print_summary(model.layers)"
   ]
  },
  {
   "cell_type": "code",
   "execution_count": 19,
   "metadata": {
    "collapsed": true
   },
   "outputs": [],
   "source": [
    "Y_pred_ellipses = model.predict(X_test_with_masks)"
   ]
  },
  {
   "cell_type": "code",
   "execution_count": 24,
   "metadata": {
    "collapsed": false
   },
   "outputs": [
    {
     "data": {
      "image/png": "[encoded data removed]",
      "text/plain": [
       "<matplotlib.figure.Figure at 0x7fa0a45f6250>"
      ]
     },
     "metadata": {},
     "output_type": "display_data"
    },
    {
     "data": {
      "image/png": "[encoded data removed]",
      "text/plain": [
       "<matplotlib.figure.Figure at 0x7fa0a4411910>"
      ]
     },
     "metadata": {},
     "output_type": "display_data"
    },
    {
     "data": {
      "image/png": "[encoded data removed]",
      "text/plain": [
       "<matplotlib.figure.Figure at 0x7fa0a4291b10>"
      ]
     },
     "metadata": {},
     "output_type": "display_data"
    }
   ],
   "source": [
    "def draw_normalized_ellipse(Y):\n",
    "    cx = 64 * Y[0] + 64\n",
    "    cy = 64 * Y[1] + 64\n",
    "    ax = 32 * Y[2] + 16\n",
    "    ay = 32 * Y[3] + 16\n",
    "    angle = 180 * Y[4] + 180\n",
    "    return draw_ellipse([(cx, cy), (ax, ay), angle])\n",
    "\n",
    "for i in np.random.choice(X_test_with_masks.shape[0], 3, replace=False):\n",
    "    pl.figure(figsize=(8, 3))\n",
    "    pl.subplot(131)\n",
    "    pl.imshow(Y_test_with_masks[i])\n",
    "    pl.subplot(132)\n",
    "    pl.title('true ellipse')\n",
    "    pl.imshow(draw_normalized_ellipse(Y_test_ellipses[i]))\n",
    "    pl.subplot(133)\n",
    "    pl.title('pred ellipse')\n",
    "    pl.imshow(draw_normalized_ellipse(Y_pred_ellipses[i]))"
   ]
  },
  {
   "cell_type": "code",
   "execution_count": null,
   "metadata": {
    "collapsed": true
   },
   "outputs": [],
   "source": []
  }
 ],
 "metadata": {
  "kernelspec": {
   "display_name": "Python 2",
   "language": "python",
   "name": "python2"
  },
  "language_info": {
   "codemirror_mode": {
    "name": "ipython",
    "version": 2
   },
   "file_extension": ".py",
   "mimetype": "text/x-python",
   "name": "python",
   "nbconvert_exporter": "python",
   "pygments_lexer": "ipython2",
   "version": "2.7.6"
  }
 },
 "nbformat": 4,
 "nbformat_minor": 0
}
