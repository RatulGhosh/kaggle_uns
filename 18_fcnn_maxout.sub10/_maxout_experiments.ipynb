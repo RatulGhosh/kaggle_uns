{
 "cells": [
  {
   "cell_type": "code",
   "execution_count": 4,
   "metadata": {
    "collapsed": false
   },
   "outputs": [
    {
     "name": "stderr",
     "output_type": "stream",
     "text": [
      "/home/julien/kaggle/venv/local/lib/python2.7/site-packages/ipykernel/pylab/config.py:66: DeprecationWarning: metadata {'config': True} was set from the constructor.  Metadata should be set using the .tag() method, e.g., Int().tag(key1='value1', key2='value2')\n",
      "  inline backend.\"\"\"\n",
      "/home/julien/kaggle/venv/local/lib/python2.7/site-packages/ipykernel/pylab/config.py:71: DeprecationWarning: metadata {'config': True} was set from the constructor.  Metadata should be set using the .tag() method, e.g., Int().tag(key1='value1', key2='value2')\n",
      "  'retina', 'jpeg', 'svg', 'pdf'.\"\"\")\n",
      "/home/julien/kaggle/venv/local/lib/python2.7/site-packages/ipykernel/pylab/config.py:85: DeprecationWarning: metadata {'config': True} was set from the constructor.  Metadata should be set using the .tag() method, e.g., Int().tag(key1='value1', key2='value2')\n",
      "  use `figure_formats` instead)\"\"\")\n",
      "/home/julien/kaggle/venv/local/lib/python2.7/site-packages/ipykernel/pylab/config.py:95: DeprecationWarning: metadata {'config': True} was set from the constructor.  Metadata should be set using the .tag() method, e.g., Int().tag(key1='value1', key2='value2')\n",
      "  \"\"\"\n",
      "/home/julien/kaggle/venv/local/lib/python2.7/site-packages/ipykernel/pylab/config.py:114: DeprecationWarning: metadata {'config': True} was set from the constructor.  Metadata should be set using the .tag() method, e.g., Int().tag(key1='value1', key2='value2')\n",
      "  \"\"\")\n",
      "/home/julien/kaggle/venv/local/lib/python2.7/site-packages/traitlets/traitlets.py:770: DeprecationWarning: A parent of InlineBackend._config_changed has adopted the new @observe(change) API\n",
      "  clsname, change_or_name), DeprecationWarning)\n",
      "/home/julien/kaggle/venv/local/lib/python2.7/site-packages/IPython/core/formatters.py:98: DeprecationWarning: DisplayFormatter._formatters_default is deprecated: use @default decorator instead.\n",
      "  def _formatters_default(self):\n",
      "/home/julien/kaggle/venv/local/lib/python2.7/site-packages/IPython/core/formatters.py:677: DeprecationWarning: PlainTextFormatter._deferred_printers_default is deprecated: use @default decorator instead.\n",
      "  def _deferred_printers_default(self):\n",
      "/home/julien/kaggle/venv/local/lib/python2.7/site-packages/IPython/core/formatters.py:669: DeprecationWarning: PlainTextFormatter._singleton_printers_default is deprecated: use @default decorator instead.\n",
      "  def _singleton_printers_default(self):\n",
      "/home/julien/kaggle/venv/local/lib/python2.7/site-packages/IPython/core/formatters.py:672: DeprecationWarning: PlainTextFormatter._type_printers_default is deprecated: use @default decorator instead.\n",
      "  def _type_printers_default(self):\n",
      "/home/julien/kaggle/venv/local/lib/python2.7/site-packages/IPython/core/formatters.py:672: DeprecationWarning: PlainTextFormatter._type_printers_default is deprecated: use @default decorator instead.\n",
      "  def _type_printers_default(self):\n",
      "/home/julien/kaggle/venv/local/lib/python2.7/site-packages/IPython/core/formatters.py:677: DeprecationWarning: PlainTextFormatter._deferred_printers_default is deprecated: use @default decorator instead.\n",
      "  def _deferred_printers_default(self):\n"
     ]
    }
   ],
   "source": [
    "import sys\n",
    "sys.path.append('../notebooks')\n",
    "import utils\n",
    "import os\n",
    "import numpy as np\n",
    "import glob\n",
    "import cv2\n",
    "import utils\n",
    "import pylab as pl\n",
    "import shutil\n",
    "import matplotlib.cm as cm\n",
    "from sklearn.cross_validation import train_test_split\n",
    "import warnings\n",
    "warnings.filterwarnings('ignore', category=DeprecationWarning, module='.*/ipykernel/.*')\n",
    "%matplotlib inline"
   ]
  },
  {
   "cell_type": "code",
   "execution_count": 5,
   "metadata": {
    "collapsed": false
   },
   "outputs": [
    {
     "name": "stderr",
     "output_type": "stream",
     "text": [
      "Using Theano backend.\n",
      "Using gpu device 0: GeForce GTX 960 (CNMeM is disabled, cuDNN 4007)\n"
     ]
    }
   ],
   "source": [
    "os.environ['KERAS_BACKEND'] = 'theano'\n",
    "# TODO: Use float16 ?\n",
    "os.environ['THEANO_FLAGS'] = 'mode=FAST_RUN,device=gpu0,floatX=float32'\n",
    "import keras\n",
    "from keras.layers import Input, Dense, Dropout, Activation, Flatten, merge, RepeatVector, Permute, Reshape\n",
    "from keras.layers import Convolution2D, MaxPooling2D, UpSampling2D, MaxoutDense\n",
    "from keras.layers import LeakyReLU\n",
    "from keras.models import Model\n",
    "from keras.optimizers import SGD, RMSprop\n",
    "from keras.utils.layer_utils import print_summary\n",
    "from keras.models import model_from_json\n",
    "from keras.callbacks import ModelCheckpoint"
   ]
  },
  {
   "cell_type": "code",
   "execution_count": 6,
   "metadata": {
    "collapsed": false
   },
   "outputs": [
    {
     "name": "stdout",
     "output_type": "stream",
     "text": [
      "gpu0\n"
     ]
    }
   ],
   "source": [
    "import theano\n",
    "print theano.config.device"
   ]
  },
  {
   "cell_type": "code",
   "execution_count": 7,
   "metadata": {
    "collapsed": false
   },
   "outputs": [],
   "source": [
    "from keras.layers import Layer, InputSpec\n",
    "import keras.initializations\n",
    "import keras.backend as K\n",
    "\n",
    "class Maxout2D(Layer):\n",
    "    def __init__(self, output_dim, cardinality, init='glorot_uniform', **kwargs):\n",
    "        super(Maxout2D, self).__init__(**kwargs)\n",
    "        # the k of the maxout paper\n",
    "        self.cardinality = cardinality\n",
    "        # the m of the maxout paper\n",
    "        self.output_dim = output_dim\n",
    "        self.init = keras.initializations.get(init)\n",
    "    \n",
    "    def build(self, input_shape):\n",
    "        self.input_dim = input_shape[1]\n",
    "        self.input_spec = [InputSpec(dtype=K.floatx(),\n",
    "                                     shape=(None, input_shape[1], input_shape[2], input_shape[3]))]\n",
    "        self.W = self.init((self.input_dim, self.output_dim, self.cardinality),\n",
    "                           name='{}_W'.format(self.name))\n",
    "        self.b = K.zeros((self.output_dim, self.cardinality))\n",
    "        self.trainable_weights = [self.W, self.b]\n",
    "              \n",
    "    def call(self, x, mask=None):\n",
    "        input_shape = self.input_spec[0].shape\n",
    "        # flatten the spatial dimensions\n",
    "        flat_x = K.reshape(x, (-1, input_shape[1], input_shape[2] * input_shape[3]))\n",
    "        output = K.dot(\n",
    "            K.permute_dimensions(flat_x, (0, 2, 1)),\n",
    "            K.permute_dimensions(self.W, (1, 0, 2))\n",
    "        )\n",
    "        output += K.reshape(self.b, (1, 1, self.output_dim, self.cardinality))\n",
    "        output = K.max(output, axis=3)\n",
    "        output = output.transpose(0, 2, 1)\n",
    "        output = K.reshape(output, (-1, self.output_dim, input_shape[2], input_shape[3]))\n",
    "        return output\n",
    "    \n",
    "    def get_output_shape_for(self, input_shape):\n",
    "        return (input_shape[0], self.output_dim, input_shape[2], input_shape[3])\n",
    "    \n",
    "    def get_config(self):\n",
    "        config = {\n",
    "            'output_dim': self.output_dim,\n",
    "            'cardinality': self.cardinality\n",
    "        }\n",
    "        base_config = super(Maxout2D, self).get_config()\n",
    "        return dict(list(base_config.items()) + list(config.items()))"
   ]
  },
  {
   "cell_type": "markdown",
   "metadata": {},
   "source": [
    "    # maxout in numpy\n",
    "    X = np.random.rand(10, 2, 3, 4)\n",
    "    X = X.reshape(10, 2, 3 * 4) # 10, 3, 30\n",
    "\n",
    "    # cardinality\n",
    "    k = 2\n",
    "    # output dim\n",
    "    m = 7\n",
    "    d = X.shape[1]\n",
    "\n",
    "    #W = np.random.rand(d, m, k)\n",
    "    W = np.ones((d, m, k), dtype=np.float32)\n",
    "    for i in range(m):\n",
    "        W[:,i,:] = i\n",
    "\n",
    "    #X[0].T.dot(W[:,0,:]).shape\n",
    "\n",
    "    print X.transpose(0, 2, 1).shape\n",
    "    print W.transpose(1, 0, 2).shape\n",
    "\n",
    "    out = np.dot(X.transpose(0, 2, 1), W.transpose(1, 0, 2))\n",
    "    #out = np.tensordot(X.transpose(0, 2, 1), W.transpose(0, 1, 2), axes=1)\n",
    "    out = np.max(out, axis=3)\n",
    "    out = out.transpose(0, 2, 1)\n",
    "    out = out.reshape(10, out.shape[1], 3, 4)\n",
    "    print out.shape\n",
    "    print out[0]"
   ]
  },
  {
   "cell_type": "markdown",
   "metadata": {},
   "source": [
    "    k_W = K.variable(W)\n",
    "    k_X = K.variable(X)\n",
    "\n",
    "    flat_x = K.reshape(k_X, (-1, 2, 3 * 4))\n",
    "\n",
    "    output = K.dot(\n",
    "        K.permute_dimensions(flat_x, (0, 2, 1)),\n",
    "        K.permute_dimensions(k_W, (1, 0, 2))\n",
    "    )\n",
    "    output = K.max(output, axis=3)\n",
    "    output = output.transpose(0, 2, 1)\n",
    "    output = K.reshape(output, (-1, W.shape[1], 3, 4))\n",
    "\n",
    "    _f = K.function([], [output])\n",
    "    k_out = _f([])[0]\n",
    "    print k_out.shape\n",
    "    print k_out"
   ]
  },
  {
   "cell_type": "code",
   "execution_count": 13,
   "metadata": {
    "collapsed": true
   },
   "outputs": [],
   "source": [
    "def line_rect_intersect(w, b, xmin, xmax, ymin, ymax):\n",
    "    \"\"\"\n",
    "    Compute intersection of a line (y=w*x + b) with both sides of an image\n",
    "    \"\"\"\n",
    "    assert np.abs(w) > 1e-6\n",
    "    \n",
    "    # left intersection\n",
    "    left_intercept = w * xmin + b\n",
    "    if left_intercept < ymin:\n",
    "        # intersection with y = ymin\n",
    "        yleft = ymin\n",
    "    elif left_intercept > ymax:\n",
    "        # intersection with y = ymax\n",
    "        yleft = ymax - 1\n",
    "    else: # inside\n",
    "        yleft = left_intercept\n",
    "    xleft = (yleft - b) / w\n",
    "        \n",
    "    # right intersection\n",
    "    right_intercept = w * xmax + b\n",
    "    if right_intercept < ymin:\n",
    "        yright = ymin\n",
    "    elif right_intercept > ymax:\n",
    "        yright = ymax - 1\n",
    "    else:\n",
    "        yright = right_intercept\n",
    "    xright = (yright - b) / w\n",
    "        \n",
    "    return xleft, yleft, xright, yright\n",
    "\n",
    "def plot_line(w, b, **kwargs):\n",
    "    xmin, xmax = pl.xlim()\n",
    "    ymin, ymax = pl.ylim()\n",
    "    x1, y1, x2, y2 = line_rect_intersect(w, b, xmin, xmax, ymin, ymax)\n",
    "    pl.plot([x1, x2], [y1, y2], **kwargs)\n",
    "    pl.ylim((ymin, ymax))\n",
    "    pl.xlim((xmin, xmax))"
   ]
  },
  {
   "cell_type": "code",
   "execution_count": 24,
   "metadata": {
    "collapsed": false
   },
   "outputs": [],
   "source": [
    "def train_model(fn, cardinality, verbose, nb_epoch=20):\n",
    "    # -- the model (the spatial (2,2) shape is arbitrary and is just because the layer requires\n",
    "    # a spatial dimension)\n",
    "    input_img = x = Input(shape=(1, 2, 2))\n",
    "    x = Maxout2D(1, cardinality)(x)\n",
    "    model = Model(input=input_img, output=x)\n",
    "    model.compile(optimizer='adam', loss='mse')\n",
    "    print_summary(model.layers)\n",
    "    \n",
    "    # -- compute y = fn(x)\n",
    "    def get_XY(x):\n",
    "        X = np.tile(\n",
    "            x.reshape(-1, 1, 1, 1),\n",
    "            (1, 1, 2, 2)\n",
    "        )\n",
    "        y = fn(x)\n",
    "        Y = np.tile(\n",
    "            y.reshape(-1, 1, 1, 1),\n",
    "            (1, 1, 2, 2)\n",
    "        )\n",
    "        return X, Y\n",
    "    \n",
    "    # For train, random x in [-1, 1]\n",
    "    X_train, Y_train = get_XY(2 * np.random.rand(1000) - 1)\n",
    "    # For test, nicely ordered x in [-1, 1] so we can plot\n",
    "    X_test, Y_test = get_XY(x = np.linspace(-1, 1, 100))\n",
    "    model.fit(X_train, Y_train, batch_size=16, nb_epoch=nb_epoch, verbose=verbose)\n",
    "    \n",
    "    Y_pred = model.predict(X_test)\n",
    "    return model, X_test, Y_pred, Y_test"
   ]
  },
  {
   "cell_type": "code",
   "execution_count": 18,
   "metadata": {
    "collapsed": false
   },
   "outputs": [
    {
     "name": "stdout",
     "output_type": "stream",
     "text": [
      "____________________________________________________________________________________________________\n",
      "Layer (type)                       Output Shape        Param #     Connected to                     \n",
      "====================================================================================================\n",
      "input_4 (InputLayer)               (None, 1, 2, 2)     0                                            \n",
      "____________________________________________________________________________________________________\n",
      "maxout2d_4 (Maxout2D)              (None, 1, 2, 2)     12          input_4[0][0]                    \n",
      "====================================================================================================\n",
      "Total params: 12\n",
      "____________________________________________________________________________________________________\n"
     ]
    },
    {
     "data": {
      "image/png": "[encoded data removed]",
      "text/plain": [
       "<matplotlib.figure.Figure at 0x7f57efe9dbd0>"
      ]
     },
     "metadata": {},
     "output_type": "display_data"
    }
   ],
   "source": [
    "model, X_test, Y_pred, Y_test = train_model(lambda x : x**2, 6, verbose=0)\n",
    "\n",
    "W, b = model.layers[1].get_weights()\n",
    "\n",
    "pl.title('$x^2$')\n",
    "pl.plot(X_test[:,0,0,0], Y_pred[:,0,0,0])\n",
    "pl.plot(X_test[:,0,0,0], Y_test[:,0,0,0], c='g')\n",
    "\n",
    "for i in range(W.shape[2]):\n",
    "    plot_line(W[0, 0, i], b[0, i], c='k')"
   ]
  },
  {
   "cell_type": "code",
   "execution_count": 21,
   "metadata": {
    "collapsed": false
   },
   "outputs": [
    {
     "name": "stdout",
     "output_type": "stream",
     "text": [
      "____________________________________________________________________________________________________\n",
      "Layer (type)                       Output Shape        Param #     Connected to                     \n",
      "====================================================================================================\n",
      "input_7 (InputLayer)               (None, 1, 2, 2)     0                                            \n",
      "____________________________________________________________________________________________________\n",
      "maxout2d_7 (Maxout2D)              (None, 1, 2, 2)     4           input_7[0][0]                    \n",
      "====================================================================================================\n",
      "Total params: 4\n",
      "____________________________________________________________________________________________________\n"
     ]
    },
    {
     "data": {
      "image/png": "[encoded data removed]",
      "text/plain": [
       "<matplotlib.figure.Figure at 0x7f57fb870ed0>"
      ]
     },
     "metadata": {},
     "output_type": "display_data"
    }
   ],
   "source": [
    "model, X_test, Y_pred, Y_test = train_model(lambda x : np.maximum(x, 0), 2, verbose=0)\n",
    "\n",
    "W, b = model.layers[1].get_weights()\n",
    "\n",
    "pl.title('$relu(x)$')\n",
    "pl.plot(X_test[:,0,0,0], Y_pred[:,0,0,0])\n",
    "pl.plot(X_test[:,0,0,0], Y_test[:,0,0,0], c='g')\n",
    "\n",
    "for i in range(W.shape[2]):\n",
    "    plot_line(W[0, 0, i], b[0, i], c='k')"
   ]
  },
  {
   "cell_type": "code",
   "execution_count": 27,
   "metadata": {
    "collapsed": false
   },
   "outputs": [
    {
     "name": "stdout",
     "output_type": "stream",
     "text": [
      "____________________________________________________________________________________________________\n",
      "Layer (type)                       Output Shape        Param #     Connected to                     \n",
      "====================================================================================================\n",
      "input_12 (InputLayer)              (None, 1, 2, 2)     0                                            \n",
      "____________________________________________________________________________________________________\n",
      "maxout2d_12 (Maxout2D)             (None, 1, 2, 2)     4           input_12[0][0]                   \n",
      "====================================================================================================\n",
      "Total params: 4\n",
      "____________________________________________________________________________________________________\n"
     ]
    },
    {
     "data": {
      "image/png": "[encoded data removed]",
      "text/plain": [
       "<matplotlib.figure.Figure at 0x7f57f1c459d0>"
      ]
     },
     "metadata": {},
     "output_type": "display_data"
    }
   ],
   "source": [
    "model, X_test, Y_pred, Y_test = train_model(lambda x : np.abs(x), 2, verbose=0, nb_epoch=60)\n",
    "\n",
    "W, b = model.layers[1].get_weights()\n",
    "\n",
    "pl.title('$abs(x)$')\n",
    "pl.plot(X_test[:,0,0,0], Y_pred[:,0,0,0])\n",
    "pl.plot(X_test[:,0,0,0], Y_test[:,0,0,0], c='g')\n",
    "\n",
    "for i in range(W.shape[2]):\n",
    "    plot_line(W[0, 0, i], b[0, i], c='k')"
   ]
  },
  {
   "cell_type": "markdown",
   "metadata": {},
   "source": [
    "## 2D"
   ]
  },
  {
   "cell_type": "code",
   "execution_count": 28,
   "metadata": {
    "collapsed": false
   },
   "outputs": [
    {
     "data": {
      "text/plain": [
       "<matplotlib.colorbar.Colorbar instance at 0x7f585c2a4b48>"
      ]
     },
     "execution_count": 28,
     "metadata": {},
     "output_type": "execute_result"
    },
    {
     "name": "stderr",
     "output_type": "stream",
     "text": [
      "/usr/lib/pymodules/python2.7/matplotlib/collections.py:548: FutureWarning: elementwise comparison failed; returning scalar instead, but in the future will perform elementwise comparison\n",
      "  if self._edgecolors == 'face':\n"
     ]
    },
    {
     "data": {
      "image/png": "[encoded data removed]",
      "text/plain": [
       "<matplotlib.figure.Figure at 0x7f57f016a510>"
      ]
     },
     "metadata": {},
     "output_type": "display_data"
    }
   ],
   "source": [
    "ij = np.dstack(np.meshgrid(np.linspace(-1, 1, 20), np.linspace(-1, 1, 20)))\n",
    "x = ij.reshape(-1, 2)\n",
    "# a 2D convex function\n",
    "z = np.sum(x**2, axis=1)\n",
    "z = z.reshape(ij.shape[0], ij.shape[1])\n",
    "pl.imshow(z, interpolation='nearest')\n",
    "pl.colorbar()"
   ]
  },
  {
   "cell_type": "code",
   "execution_count": 29,
   "metadata": {
    "collapsed": false
   },
   "outputs": [
    {
     "name": "stdout",
     "output_type": "stream",
     "text": [
      "(1, 1, 2)\n"
     ]
    }
   ],
   "source": [
    "W, b = model.layers[1].get_weights()\n",
    "print W.shape"
   ]
  },
  {
   "cell_type": "code",
   "execution_count": 30,
   "metadata": {
    "collapsed": false,
    "scrolled": true
   },
   "outputs": [
    {
     "name": "stdout",
     "output_type": "stream",
     "text": [
      "____________________________________________________________________________________________________\n",
      "Layer (type)                       Output Shape        Param #     Connected to                     \n",
      "====================================================================================================\n",
      "input_13 (InputLayer)              (None, 2, 2, 2)     0                                            \n",
      "____________________________________________________________________________________________________\n",
      "maxout2d_13 (Maxout2D)             (None, 1, 2, 2)     48          input_13[0][0]                   \n",
      "====================================================================================================\n",
      "Total params: 48\n",
      "____________________________________________________________________________________________________\n",
      "Epoch 1/30\n",
      "0s - loss: 0.0649\n",
      "Epoch 2/30\n",
      "0s - loss: 0.0405\n",
      "Epoch 3/30\n",
      "0s - loss: 0.0340\n",
      "Epoch 4/30\n",
      "0s - loss: 0.0286\n",
      "Epoch 5/30\n",
      "0s - loss: 0.0240\n",
      "Epoch 6/30\n",
      "0s - loss: 0.0204\n",
      "Epoch 7/30\n",
      "0s - loss: 0.0174\n",
      "Epoch 8/30\n",
      "0s - loss: 0.0151\n",
      "Epoch 9/30\n",
      "0s - loss: 0.0134\n",
      "Epoch 10/30\n",
      "0s - loss: 0.0120\n",
      "Epoch 11/30\n",
      "0s - loss: 0.0109\n",
      "Epoch 12/30\n",
      "0s - loss: 0.0100\n",
      "Epoch 13/30\n",
      "0s - loss: 0.0093\n",
      "Epoch 14/30\n",
      "0s - loss: 0.0087\n",
      "Epoch 15/30\n",
      "0s - loss: 0.0081\n",
      "Epoch 16/30\n",
      "0s - loss: 0.0074\n",
      "Epoch 17/30\n",
      "0s - loss: 0.0065\n",
      "Epoch 18/30\n",
      "0s - loss: 0.0058\n",
      "Epoch 19/30\n",
      "0s - loss: 0.0053\n",
      "Epoch 20/30\n",
      "0s - loss: 0.0048\n",
      "Epoch 21/30\n",
      "0s - loss: 0.0044\n",
      "Epoch 22/30\n",
      "0s - loss: 0.0039\n",
      "Epoch 23/30\n",
      "0s - loss: 0.0035\n",
      "Epoch 24/30\n",
      "0s - loss: 0.0031\n",
      "Epoch 25/30\n",
      "0s - loss: 0.0029\n",
      "Epoch 26/30\n",
      "0s - loss: 0.0026\n",
      "Epoch 27/30\n",
      "0s - loss: 0.0024\n",
      "Epoch 28/30\n",
      "0s - loss: 0.0023\n",
      "Epoch 29/30\n",
      "0s - loss: 0.0021\n",
      "Epoch 30/30\n",
      "0s - loss: 0.0020\n"
     ]
    }
   ],
   "source": [
    "cardinality = 16\n",
    "fn = lambda x : np.sum(x**2, axis=1)\n",
    "\n",
    "input_img = x = Input(shape=(2, 2, 2))\n",
    "x = Maxout2D(1, cardinality)(x)\n",
    "model = Model(input=input_img, output=x)\n",
    "model.compile(optimizer='adam', loss='mse')\n",
    "print_summary(model.layers)\n",
    "\n",
    "# -- compute y = fn(x)\n",
    "def get_XY(x):\n",
    "    X = np.tile(\n",
    "        x.reshape(-1, 2, 1, 1),\n",
    "        (1, 1, 2, 2)\n",
    "    )\n",
    "    y = fn(x)\n",
    "    Y = np.tile(\n",
    "        y.reshape(-1, 1, 1, 1),\n",
    "        (1, 1, 2, 2)\n",
    "    )\n",
    "    return X, Y\n",
    "\n",
    "# For train, random x in [-1, 1]\n",
    "X_train, Y_train = get_XY(2 * np.random.rand(10000, 2) - 1)\n",
    "# For test, nicely ordered x in [-1, 1] so we can plot\n",
    "ij = np.dstack(np.meshgrid(np.linspace(-1, 1, 20), np.linspace(-1, 1, 20)))\n",
    "X_test, Y_test = get_XY(ij.reshape(-1, 2))\n",
    "model.fit(X_train, Y_train, batch_size=64, nb_epoch=30, verbose=2)\n",
    "\n",
    "Y_pred = model.predict(X_test)"
   ]
  },
  {
   "cell_type": "code",
   "execution_count": 31,
   "metadata": {
    "collapsed": false
   },
   "outputs": [
    {
     "data": {
      "text/plain": [
       "<matplotlib.image.AxesImage at 0x7f57f03e4ed0>"
      ]
     },
     "execution_count": 31,
     "metadata": {},
     "output_type": "execute_result"
    },
    {
     "data": {
      "image/png": "[encoded data removed]",
      "text/plain": [
       "<matplotlib.figure.Figure at 0x7f57fb8197d0>"
      ]
     },
     "metadata": {},
     "output_type": "display_data"
    }
   ],
   "source": [
    "pl.imshow(Y_pred[:,0,0,0].reshape(20, 20))"
   ]
  },
  {
   "cell_type": "code",
   "execution_count": null,
   "metadata": {
    "collapsed": true
   },
   "outputs": [],
   "source": []
  }
 ],
 "metadata": {
  "kernelspec": {
   "display_name": "Python 2",
   "language": "python",
   "name": "python2"
  },
  "language_info": {
   "codemirror_mode": {
    "name": "ipython",
    "version": 2
   },
   "file_extension": ".py",
   "mimetype": "text/x-python",
   "name": "python",
   "nbconvert_exporter": "python",
   "pygments_lexer": "ipython2",
   "version": "2.7.6"
  }
 },
 "nbformat": 4,
 "nbformat_minor": 0
}
