{
 "cells": [
  {
   "cell_type": "markdown",
   "metadata": {},
   "source": [
    "Export images to 128 x 128 size"
   ]
  },
  {
   "cell_type": "code",
   "execution_count": 1,
   "metadata": {
    "collapsed": false
   },
   "outputs": [],
   "source": [
    "import os\n",
    "import numpy as np\n",
    "import glob\n",
    "import cv2\n",
    "import pylab as pl\n",
    "import matplotlib.cm as cm\n",
    "%matplotlib inline"
   ]
  },
  {
   "cell_type": "code",
   "execution_count": 2,
   "metadata": {
    "collapsed": true
   },
   "outputs": [],
   "source": [
    "DATAPATH = '../data/data_clean'"
   ]
  },
  {
   "cell_type": "code",
   "execution_count": 3,
   "metadata": {
    "collapsed": false
   },
   "outputs": [],
   "source": [
    "imgs_fnames = [os.path.basename(fname) for fname in glob.glob(DATAPATH + \"/*.png\") if 'mask' not in fname]"
   ]
  },
  {
   "cell_type": "code",
   "execution_count": 4,
   "metadata": {
    "collapsed": false
   },
   "outputs": [
    {
     "data": {
      "text/plain": [
       "3906"
      ]
     },
     "execution_count": 4,
     "metadata": {},
     "output_type": "execute_result"
    }
   ],
   "source": [
    "len(imgs_fnames)"
   ]
  },
  {
   "cell_type": "code",
   "execution_count": 5,
   "metadata": {
    "collapsed": false
   },
   "outputs": [],
   "source": [
    "def load_and_preprocess(imgname):\n",
    "    img_fname = imgname\n",
    "    mask_fname = os.path.splitext(imgname)[0] + \"_mask.png\"\n",
    "    img = cv2.imread(os.path.join(DATAPATH, img_fname), cv2.IMREAD_GRAYSCALE)\n",
    "    mask = cv2.imread(os.path.join(DATAPATH, mask_fname), cv2.IMREAD_GRAYSCALE)\n",
    "    \n",
    "    #newsize = (img.shape[1] / 4, img.shape[0] / 4)\n",
    "    newsize = (128, 128)\n",
    "    img = cv2.resize(img, newsize)\n",
    "    mask = cv2.resize(mask, newsize)\n",
    "    mask = (mask > 128).astype(np.float32)\n",
    "    \n",
    "    # TODO: Could subtract mean as on fimg above\n",
    "    img = img.astype(np.float32) / 255.0\n",
    "    np.ascontiguousarray(img)\n",
    "    return img, mask\n",
    "\n",
    "# TODO: Note that this load in a different order (but we don't care since it's train) - see test below\n",
    "imgs, masks = zip(*[load_and_preprocess(fname) for fname in imgs_fnames])"
   ]
  },
  {
   "cell_type": "code",
   "execution_count": 6,
   "metadata": {
    "collapsed": false
   },
   "outputs": [
    {
     "name": "stdout",
     "output_type": "stream",
     "text": [
      "(3906, 128, 128)\n",
      "244.125\n"
     ]
    }
   ],
   "source": [
    "X = np.array(imgs)\n",
    "print X.shape\n",
    "print X.nbytes / (1024. * 1024.)"
   ]
  },
  {
   "cell_type": "code",
   "execution_count": 7,
   "metadata": {
    "collapsed": false
   },
   "outputs": [
    {
     "name": "stdout",
     "output_type": "stream",
     "text": [
      "(3906, 128, 128)\n",
      "244.125\n"
     ]
    }
   ],
   "source": [
    "Y = np.array(masks)\n",
    "print X.shape\n",
    "print X.nbytes / (1024. * 1024.)"
   ]
  },
  {
   "cell_type": "code",
   "execution_count": 8,
   "metadata": {
    "collapsed": true
   },
   "outputs": [],
   "source": [
    "np.savez('../data/data_clean_128_train.npz', X=X, Y=Y)"
   ]
  },
  {
   "cell_type": "code",
   "execution_count": 9,
   "metadata": {
    "collapsed": false
   },
   "outputs": [],
   "source": [
    "del X, Y"
   ]
  }
 ],
 "metadata": {
  "kernelspec": {
   "display_name": "Python 2",
   "language": "python",
   "name": "python2"
  },
  "language_info": {
   "codemirror_mode": {
    "name": "ipython",
    "version": 2
   },
   "file_extension": ".py",
   "mimetype": "text/x-python",
   "name": "python",
   "nbconvert_exporter": "python",
   "pygments_lexer": "ipython2",
   "version": "2.7.11"
  }
 },
 "nbformat": 4,
 "nbformat_minor": 0
}
