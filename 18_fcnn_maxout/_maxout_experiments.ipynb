{
 "cells": [
  {
   "cell_type": "code",
   "execution_count": 2,
   "metadata": {
    "collapsed": false
   },
   "outputs": [],
   "source": [
    "import sys\n",
    "sys.path.append('../notebooks')\n",
    "import utils\n",
    "import os\n",
    "import numpy as np\n",
    "import glob\n",
    "import cv2\n",
    "import utils\n",
    "import pylab as pl\n",
    "import shutil\n",
    "import matplotlib.cm as cm\n",
    "from sklearn.cross_validation import train_test_split\n",
    "import warnings\n",
    "warnings.filterwarnings('ignore', category=DeprecationWarning, module='.*/ipykernel/.*')\n",
    "%matplotlib inline"
   ]
  },
  {
   "cell_type": "code",
   "execution_count": 10,
   "metadata": {
    "collapsed": false
   },
   "outputs": [
    {
     "name": "stderr",
     "output_type": "stream",
     "text": [
      "Using Theano backend.\n",
      "Using gpu device 0: GeForce GTX 960 (CNMeM is disabled, cuDNN 4007)\n"
     ]
    }
   ],
   "source": [
    "os.environ['KERAS_BACKEND'] = 'theano'\n",
    "# TODO: Use float16 ?\n",
    "os.environ['THEANO_FLAGS'] = 'mode=FAST_RUN,device=gpu0,floatX=float16'\n",
    "import keras\n",
    "from keras.layers import Input, Dense, Dropout, Activation, Flatten, merge, RepeatVector, Permute, Reshape\n",
    "from keras.layers import Convolution2D, MaxPooling2D, UpSampling2D, MaxoutDense\n",
    "from keras.layers import LeakyReLU\n",
    "from keras.models import Model\n",
    "from keras.optimizers import SGD, RMSprop\n",
    "from keras.utils.layer_utils import print_summary\n",
    "from keras.models import model_from_json\n",
    "from keras.callbacks import ModelCheckpoint"
   ]
  },
  {
   "cell_type": "code",
   "execution_count": 11,
   "metadata": {
    "collapsed": false
   },
   "outputs": [
    {
     "name": "stdout",
     "output_type": "stream",
     "text": [
      "gpu0\n"
     ]
    }
   ],
   "source": [
    "import theano\n",
    "print theano.config.device"
   ]
  },
  {
   "cell_type": "code",
   "execution_count": 12,
   "metadata": {
    "collapsed": false
   },
   "outputs": [
    {
     "name": "stdout",
     "output_type": "stream",
     "text": [
      "____________________________________________________________________________________________________\n",
      "Layer (type)                       Output Shape        Param #     Connected to                     \n",
      "====================================================================================================\n",
      "input_1 (InputLayer)               (None, 3, 16, 16)   0                                            \n",
      "____________________________________________________________________________________________________\n",
      "convolution2d_1 (Convolution2D)    (None, 16, 16, 16)  448         input_1[0][0]                    \n",
      "____________________________________________________________________________________________________\n",
      "maxout2d_1 (Maxout2D)              (None, 5, 16, 16)   595         convolution2d_1[0][0]            \n",
      "====================================================================================================\n",
      "Total params: 1043\n",
      "____________________________________________________________________________________________________\n"
     ]
    }
   ],
   "source": [
    "from keras.layers import Layer, InputSpec\n",
    "import keras.initializations\n",
    "import keras.backend as K\n",
    "\n",
    "class Maxout2D(Layer):\n",
    "    def __init__(self, output_dim, cardinality, init='glorot_uniform', **kwargs):\n",
    "        super(Maxout2D, self).__init__(**kwargs)\n",
    "        # the k of the maxout paper\n",
    "        self.cardinality = cardinality\n",
    "        # the m of the maxout paper\n",
    "        self.output_dim = output_dim\n",
    "        self.init = keras.initializations.get(init)\n",
    "    \n",
    "    def build(self, input_shape):\n",
    "        self.input_dim = input_shape[1]\n",
    "        self.input_spec = [InputSpec(dtype=K.floatx(),\n",
    "                                     shape=(None, input_shape[1], input_shape[2], input_shape[3]))]\n",
    "        self.W = self.init((self.input_dim, self.output_dim, self.cardinality),\n",
    "                           name='{}_W'.format(self.name))\n",
    "        self.b = K.zeros((self.output_dim, self.cardinality))\n",
    "        self.trainable_weights = [self.W, self.b]\n",
    "              \n",
    "    def call(self, x, mask=None):\n",
    "        input_shape = self.input_spec[0].shape\n",
    "        # flatten the spatial dimensions\n",
    "        flat_x = K.reshape(x, (-1, input_shape[1], input_shape[2] * input_shape[3]))\n",
    "        output = K.dot(\n",
    "            K.permute_dimensions(flat_x, (0, 2, 1)),\n",
    "            K.permute_dimensions(self.W, (1, 0, 2))\n",
    "        )\n",
    "        output += K.reshape(self.b, (1, 1, self.output_dim, self.cardinality))\n",
    "        output = K.max(output, axis=3)\n",
    "        output = output.transpose(0, 2, 1)\n",
    "        output = K.reshape(output, (-1, self.output_dim, input_shape[2], input_shape[3]))\n",
    "        return output\n",
    "    \n",
    "    def get_output_shape_for(self, input_shape):\n",
    "        return (input_shape[0], self.output_dim, input_shape[2], input_shape[3])\n",
    "    \n",
    "    def get_config(self):\n",
    "        config = {\n",
    "            'output_dim': self.output_dim,\n",
    "            'cardinality': self.cardinality\n",
    "        }\n",
    "        base_config = super(Maxout2D, self).get_config()\n",
    "        return dict(list(base_config.items()) + list(config.items()))\n",
    "    \n",
    "input_img = Input(shape=(3, 16, 16))\n",
    "x = Convolution2D(16, 3, 3, border_mode='same')(input_img)\n",
    "x = Maxout2D(5, 7)(x)\n",
    "\n",
    "model = Model(input=input_img, output=x)\n",
    "model.compile(optimizer='adam', loss='mse')\n",
    "print_summary(model.layers)"
   ]
  },
  {
   "cell_type": "markdown",
   "metadata": {},
   "source": [
    "    # maxout in numpy\n",
    "    X = np.random.rand(10, 2, 3, 4)\n",
    "    X = X.reshape(10, 2, 3 * 4) # 10, 3, 30\n",
    "\n",
    "    # cardinality\n",
    "    k = 2\n",
    "    # output dim\n",
    "    m = 7\n",
    "    d = X.shape[1]\n",
    "\n",
    "    #W = np.random.rand(d, m, k)\n",
    "    W = np.ones((d, m, k), dtype=np.float32)\n",
    "    for i in range(m):\n",
    "        W[:,i,:] = i\n",
    "\n",
    "    #X[0].T.dot(W[:,0,:]).shape\n",
    "\n",
    "    print X.transpose(0, 2, 1).shape\n",
    "    print W.transpose(1, 0, 2).shape\n",
    "\n",
    "    out = np.dot(X.transpose(0, 2, 1), W.transpose(1, 0, 2))\n",
    "    #out = np.tensordot(X.transpose(0, 2, 1), W.transpose(0, 1, 2), axes=1)\n",
    "    out = np.max(out, axis=3)\n",
    "    out = out.transpose(0, 2, 1)\n",
    "    out = out.reshape(10, out.shape[1], 3, 4)\n",
    "    print out.shape\n",
    "    print out[0]"
   ]
  },
  {
   "cell_type": "markdown",
   "metadata": {},
   "source": [
    "    k_W = K.variable(W)\n",
    "    k_X = K.variable(X)\n",
    "\n",
    "    flat_x = K.reshape(k_X, (-1, 2, 3 * 4))\n",
    "\n",
    "    output = K.dot(\n",
    "        K.permute_dimensions(flat_x, (0, 2, 1)),\n",
    "        K.permute_dimensions(k_W, (1, 0, 2))\n",
    "    )\n",
    "    output = K.max(output, axis=3)\n",
    "    output = output.transpose(0, 2, 1)\n",
    "    output = K.reshape(output, (-1, W.shape[1], 3, 4))\n",
    "\n",
    "    _f = K.function([], [output])\n",
    "    k_out = _f([])[0]\n",
    "    print k_out.shape\n",
    "    print k_out"
   ]
  }
 ],
 "metadata": {
  "kernelspec": {
   "display_name": "Python 2",
   "language": "python",
   "name": "python2"
  },
  "language_info": {
   "codemirror_mode": {
    "name": "ipython",
    "version": 2
   },
   "file_extension": ".py",
   "mimetype": "text/x-python",
   "name": "python",
   "nbconvert_exporter": "python",
   "pygments_lexer": "ipython2",
   "version": "2.7.6"
  }
 },
 "nbformat": 4,
 "nbformat_minor": 0
}
