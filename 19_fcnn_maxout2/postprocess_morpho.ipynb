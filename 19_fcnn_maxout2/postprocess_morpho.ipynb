{
 "cells": [
  {
   "cell_type": "code",
   "execution_count": 25,
   "metadata": {
    "collapsed": false
   },
   "outputs": [],
   "source": [
    "import sys\n",
    "sys.path.append('../notebooks')\n",
    "import utils\n",
    "import cv2\n",
    "import glob\n",
    "import os\n",
    "import matplotlib.cm as cm\n",
    "import numpy as np\n",
    "import pylab as pl\n",
    "%matplotlib inline"
   ]
  },
  {
   "cell_type": "code",
   "execution_count": 60,
   "metadata": {
    "collapsed": false
   },
   "outputs": [],
   "source": [
    "#fname = '2286.png'\n",
    "#fname = '2291.png'\n",
    "#fname = '2319.png'\n",
    "fname = '2.png'\n",
    "img = cv2.imread(os.path.join(PRED_DIR, fname), cv2.IMREAD_GRAYSCALE)\n",
    "img = (img != 0).astype(np.uint8) * 255"
   ]
  },
  {
   "cell_type": "code",
   "execution_count": 61,
   "metadata": {
    "collapsed": false
   },
   "outputs": [
    {
     "data": {
      "text/plain": [
       "<matplotlib.image.AxesImage at 0x7fd68d9d1910>"
      ]
     },
     "execution_count": 61,
     "metadata": {},
     "output_type": "execute_result"
    },
    {
     "data": {
      "image/png": "[encoded data removed]",
      "text/plain": [
       "<matplotlib.figure.Figure at 0x7fd68e2dec90>"
      ]
     },
     "metadata": {},
     "output_type": "display_data"
    }
   ],
   "source": [
    "kernel = cv2.getStructuringElement(cv2.MORPH_ELLIPSE,(50,50))\n",
    "img2 = cv2.morphologyEx(img, cv2.MORPH_CLOSE, kernel)\n",
    "\n",
    "pl.figure(figsize=(10, 10))\n",
    "pl.subplot(121)\n",
    "pl.imshow(img, cmap=cm.binary)\n",
    "pl.subplot(122)\n",
    "pl.imshow(img2, cmap=cm.binary)"
   ]
  },
  {
   "cell_type": "code",
   "execution_count": null,
   "metadata": {
    "collapsed": true
   },
   "outputs": [],
   "source": [
    "# TODO: Could also try fitting an ellipse and remove those which do not fit the ellipse enough"
   ]
  },
  {
   "cell_type": "code",
   "execution_count": 62,
   "metadata": {
    "collapsed": false
   },
   "outputs": [
    {
     "name": "stdout",
     "output_type": "stream",
     "text": [
      "5500 / 5508\n"
     ]
    }
   ],
   "source": [
    "import sys\n",
    "import shutil\n",
    "\n",
    "PRED_DIR='../../preds'\n",
    "OUT_PRED_DIR='../../preds_closed'\n",
    "\n",
    "if os.path.exists(OUT_PRED_DIR):\n",
    "    shutil.rmtree(OUT_PRED_DIR)\n",
    "utils.mkdir_p(OUT_PRED_DIR)\n",
    "\n",
    "test_fnames = ['%d.png' % i for i in range(1,5509)]\n",
    "\n",
    "for i, fname in enumerate(test_fnames):\n",
    "    img = cv2.imread(os.path.join(PRED_DIR, fname), cv2.IMREAD_GRAYSCALE)\n",
    "    img = (img != 0).astype(np.uint8) * 255\n",
    "    img2 = cv2.morphologyEx(img, cv2.MORPH_CLOSE, kernel)\n",
    "    cv2.imwrite(os.path.join(OUT_PRED_DIR, fname), img2)\n",
    "    if i % 10 == 0:\n",
    "        print '\\r%d / %d' % (i, len(test_fnames)),\n",
    "        sys.stdout.flush()"
   ]
  },
  {
   "cell_type": "code",
   "execution_count": null,
   "metadata": {
    "collapsed": true
   },
   "outputs": [],
   "source": []
  }
 ],
 "metadata": {
  "kernelspec": {
   "display_name": "Python 2",
   "language": "python",
   "name": "python2"
  },
  "language_info": {
   "codemirror_mode": {
    "name": "ipython",
    "version": 2
   },
   "file_extension": ".py",
   "mimetype": "text/x-python",
   "name": "python",
   "nbconvert_exporter": "python",
   "pygments_lexer": "ipython2",
   "version": "2.7.6"
  }
 },
 "nbformat": 4,
 "nbformat_minor": 0
}
